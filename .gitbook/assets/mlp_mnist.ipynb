{
  "nbformat": 4,
  "nbformat_minor": 0,
  "metadata": {
    "colab": {
      "name": "Untitled0.ipynb",
      "provenance": []
    },
    "kernelspec": {
      "name": "python3",
      "display_name": "Python 3"
    },
    "accelerator": "GPU",
    "widgets": {
      "application/vnd.jupyter.widget-state+json": {
        "7123cb528a55406cb67b3c76b0576a72": {
          "model_module": "@jupyter-widgets/controls",
          "model_name": "HBoxModel",
          "state": {
            "_view_name": "HBoxView",
            "_dom_classes": [],
            "_model_name": "HBoxModel",
            "_view_module": "@jupyter-widgets/controls",
            "_model_module_version": "1.5.0",
            "_view_count": null,
            "_view_module_version": "1.5.0",
            "box_style": "",
            "layout": "IPY_MODEL_ee6f3dfc96f749e9af57507d566ed3d3",
            "_model_module": "@jupyter-widgets/controls",
            "children": [
              "IPY_MODEL_74c49d9a1f194623a10b199347d0af8f",
              "IPY_MODEL_6e359caccb5545f897edfc468fc19a4e"
            ]
          }
        },
        "ee6f3dfc96f749e9af57507d566ed3d3": {
          "model_module": "@jupyter-widgets/base",
          "model_name": "LayoutModel",
          "state": {
            "_view_name": "LayoutView",
            "grid_template_rows": null,
            "right": null,
            "justify_content": null,
            "_view_module": "@jupyter-widgets/base",
            "overflow": null,
            "_model_module_version": "1.2.0",
            "_view_count": null,
            "flex_flow": null,
            "width": null,
            "min_width": null,
            "border": null,
            "align_items": null,
            "bottom": null,
            "_model_module": "@jupyter-widgets/base",
            "top": null,
            "grid_column": null,
            "overflow_y": null,
            "overflow_x": null,
            "grid_auto_flow": null,
            "grid_area": null,
            "grid_template_columns": null,
            "flex": null,
            "_model_name": "LayoutModel",
            "justify_items": null,
            "grid_row": null,
            "max_height": null,
            "align_content": null,
            "visibility": null,
            "align_self": null,
            "height": null,
            "min_height": null,
            "padding": null,
            "grid_auto_rows": null,
            "grid_gap": null,
            "max_width": null,
            "order": null,
            "_view_module_version": "1.2.0",
            "grid_template_areas": null,
            "object_position": null,
            "object_fit": null,
            "grid_auto_columns": null,
            "margin": null,
            "display": null,
            "left": null
          }
        },
        "74c49d9a1f194623a10b199347d0af8f": {
          "model_module": "@jupyter-widgets/controls",
          "model_name": "FloatProgressModel",
          "state": {
            "_view_name": "ProgressView",
            "style": "IPY_MODEL_2d4b283679cf4ca1937e7ea809d7da3f",
            "_dom_classes": [],
            "description": "",
            "_model_name": "FloatProgressModel",
            "bar_style": "info",
            "max": 1,
            "_view_module": "@jupyter-widgets/controls",
            "_model_module_version": "1.5.0",
            "value": 1,
            "_view_count": null,
            "_view_module_version": "1.5.0",
            "orientation": "horizontal",
            "min": 0,
            "description_tooltip": null,
            "_model_module": "@jupyter-widgets/controls",
            "layout": "IPY_MODEL_b764926546594e6bbd0d480cfc651d10"
          }
        },
        "6e359caccb5545f897edfc468fc19a4e": {
          "model_module": "@jupyter-widgets/controls",
          "model_name": "HTMLModel",
          "state": {
            "_view_name": "HTMLView",
            "style": "IPY_MODEL_1ae74d7f68984597b2ea029616200591",
            "_dom_classes": [],
            "description": "",
            "_model_name": "HTMLModel",
            "placeholder": "​",
            "_view_module": "@jupyter-widgets/controls",
            "_model_module_version": "1.5.0",
            "value": " 9920512/? [00:20&lt;00:00, 701565.29it/s]",
            "_view_count": null,
            "_view_module_version": "1.5.0",
            "description_tooltip": null,
            "_model_module": "@jupyter-widgets/controls",
            "layout": "IPY_MODEL_81d1fd2ff8e9406b9ad32b5b9be3739c"
          }
        },
        "2d4b283679cf4ca1937e7ea809d7da3f": {
          "model_module": "@jupyter-widgets/controls",
          "model_name": "ProgressStyleModel",
          "state": {
            "_view_name": "StyleView",
            "_model_name": "ProgressStyleModel",
            "description_width": "initial",
            "_view_module": "@jupyter-widgets/base",
            "_model_module_version": "1.5.0",
            "_view_count": null,
            "_view_module_version": "1.2.0",
            "bar_color": null,
            "_model_module": "@jupyter-widgets/controls"
          }
        },
        "b764926546594e6bbd0d480cfc651d10": {
          "model_module": "@jupyter-widgets/base",
          "model_name": "LayoutModel",
          "state": {
            "_view_name": "LayoutView",
            "grid_template_rows": null,
            "right": null,
            "justify_content": null,
            "_view_module": "@jupyter-widgets/base",
            "overflow": null,
            "_model_module_version": "1.2.0",
            "_view_count": null,
            "flex_flow": null,
            "width": null,
            "min_width": null,
            "border": null,
            "align_items": null,
            "bottom": null,
            "_model_module": "@jupyter-widgets/base",
            "top": null,
            "grid_column": null,
            "overflow_y": null,
            "overflow_x": null,
            "grid_auto_flow": null,
            "grid_area": null,
            "grid_template_columns": null,
            "flex": null,
            "_model_name": "LayoutModel",
            "justify_items": null,
            "grid_row": null,
            "max_height": null,
            "align_content": null,
            "visibility": null,
            "align_self": null,
            "height": null,
            "min_height": null,
            "padding": null,
            "grid_auto_rows": null,
            "grid_gap": null,
            "max_width": null,
            "order": null,
            "_view_module_version": "1.2.0",
            "grid_template_areas": null,
            "object_position": null,
            "object_fit": null,
            "grid_auto_columns": null,
            "margin": null,
            "display": null,
            "left": null
          }
        },
        "1ae74d7f68984597b2ea029616200591": {
          "model_module": "@jupyter-widgets/controls",
          "model_name": "DescriptionStyleModel",
          "state": {
            "_view_name": "StyleView",
            "_model_name": "DescriptionStyleModel",
            "description_width": "",
            "_view_module": "@jupyter-widgets/base",
            "_model_module_version": "1.5.0",
            "_view_count": null,
            "_view_module_version": "1.2.0",
            "_model_module": "@jupyter-widgets/controls"
          }
        },
        "81d1fd2ff8e9406b9ad32b5b9be3739c": {
          "model_module": "@jupyter-widgets/base",
          "model_name": "LayoutModel",
          "state": {
            "_view_name": "LayoutView",
            "grid_template_rows": null,
            "right": null,
            "justify_content": null,
            "_view_module": "@jupyter-widgets/base",
            "overflow": null,
            "_model_module_version": "1.2.0",
            "_view_count": null,
            "flex_flow": null,
            "width": null,
            "min_width": null,
            "border": null,
            "align_items": null,
            "bottom": null,
            "_model_module": "@jupyter-widgets/base",
            "top": null,
            "grid_column": null,
            "overflow_y": null,
            "overflow_x": null,
            "grid_auto_flow": null,
            "grid_area": null,
            "grid_template_columns": null,
            "flex": null,
            "_model_name": "LayoutModel",
            "justify_items": null,
            "grid_row": null,
            "max_height": null,
            "align_content": null,
            "visibility": null,
            "align_self": null,
            "height": null,
            "min_height": null,
            "padding": null,
            "grid_auto_rows": null,
            "grid_gap": null,
            "max_width": null,
            "order": null,
            "_view_module_version": "1.2.0",
            "grid_template_areas": null,
            "object_position": null,
            "object_fit": null,
            "grid_auto_columns": null,
            "margin": null,
            "display": null,
            "left": null
          }
        },
        "42e69f035a4347c3b8f94bdd9537f367": {
          "model_module": "@jupyter-widgets/controls",
          "model_name": "HBoxModel",
          "state": {
            "_view_name": "HBoxView",
            "_dom_classes": [],
            "_model_name": "HBoxModel",
            "_view_module": "@jupyter-widgets/controls",
            "_model_module_version": "1.5.0",
            "_view_count": null,
            "_view_module_version": "1.5.0",
            "box_style": "",
            "layout": "IPY_MODEL_6cf4b741d7f74d24b8ad1c120eeb5ccc",
            "_model_module": "@jupyter-widgets/controls",
            "children": [
              "IPY_MODEL_dabf82c8775b48ecbf47795b23214455",
              "IPY_MODEL_3c9cf7324bc44d45b11232db249c37f0"
            ]
          }
        },
        "6cf4b741d7f74d24b8ad1c120eeb5ccc": {
          "model_module": "@jupyter-widgets/base",
          "model_name": "LayoutModel",
          "state": {
            "_view_name": "LayoutView",
            "grid_template_rows": null,
            "right": null,
            "justify_content": null,
            "_view_module": "@jupyter-widgets/base",
            "overflow": null,
            "_model_module_version": "1.2.0",
            "_view_count": null,
            "flex_flow": null,
            "width": null,
            "min_width": null,
            "border": null,
            "align_items": null,
            "bottom": null,
            "_model_module": "@jupyter-widgets/base",
            "top": null,
            "grid_column": null,
            "overflow_y": null,
            "overflow_x": null,
            "grid_auto_flow": null,
            "grid_area": null,
            "grid_template_columns": null,
            "flex": null,
            "_model_name": "LayoutModel",
            "justify_items": null,
            "grid_row": null,
            "max_height": null,
            "align_content": null,
            "visibility": null,
            "align_self": null,
            "height": null,
            "min_height": null,
            "padding": null,
            "grid_auto_rows": null,
            "grid_gap": null,
            "max_width": null,
            "order": null,
            "_view_module_version": "1.2.0",
            "grid_template_areas": null,
            "object_position": null,
            "object_fit": null,
            "grid_auto_columns": null,
            "margin": null,
            "display": null,
            "left": null
          }
        },
        "dabf82c8775b48ecbf47795b23214455": {
          "model_module": "@jupyter-widgets/controls",
          "model_name": "FloatProgressModel",
          "state": {
            "_view_name": "ProgressView",
            "style": "IPY_MODEL_2c7fe20e7c274691b19ebb2c08e46dae",
            "_dom_classes": [],
            "description": "",
            "_model_name": "FloatProgressModel",
            "bar_style": "success",
            "max": 1,
            "_view_module": "@jupyter-widgets/controls",
            "_model_module_version": "1.5.0",
            "value": 1,
            "_view_count": null,
            "_view_module_version": "1.5.0",
            "orientation": "horizontal",
            "min": 0,
            "description_tooltip": null,
            "_model_module": "@jupyter-widgets/controls",
            "layout": "IPY_MODEL_3b6b160692084068bf937497f00a2eb9"
          }
        },
        "3c9cf7324bc44d45b11232db249c37f0": {
          "model_module": "@jupyter-widgets/controls",
          "model_name": "HTMLModel",
          "state": {
            "_view_name": "HTMLView",
            "style": "IPY_MODEL_58f03b7731904c34b0b2fe5ac6c4e01c",
            "_dom_classes": [],
            "description": "",
            "_model_name": "HTMLModel",
            "placeholder": "​",
            "_view_module": "@jupyter-widgets/controls",
            "_model_module_version": "1.5.0",
            "value": " 32768/? [00:00&lt;00:00, 95447.23it/s]",
            "_view_count": null,
            "_view_module_version": "1.5.0",
            "description_tooltip": null,
            "_model_module": "@jupyter-widgets/controls",
            "layout": "IPY_MODEL_4c943021643f459a8d29a8b9b215c92e"
          }
        },
        "2c7fe20e7c274691b19ebb2c08e46dae": {
          "model_module": "@jupyter-widgets/controls",
          "model_name": "ProgressStyleModel",
          "state": {
            "_view_name": "StyleView",
            "_model_name": "ProgressStyleModel",
            "description_width": "initial",
            "_view_module": "@jupyter-widgets/base",
            "_model_module_version": "1.5.0",
            "_view_count": null,
            "_view_module_version": "1.2.0",
            "bar_color": null,
            "_model_module": "@jupyter-widgets/controls"
          }
        },
        "3b6b160692084068bf937497f00a2eb9": {
          "model_module": "@jupyter-widgets/base",
          "model_name": "LayoutModel",
          "state": {
            "_view_name": "LayoutView",
            "grid_template_rows": null,
            "right": null,
            "justify_content": null,
            "_view_module": "@jupyter-widgets/base",
            "overflow": null,
            "_model_module_version": "1.2.0",
            "_view_count": null,
            "flex_flow": null,
            "width": null,
            "min_width": null,
            "border": null,
            "align_items": null,
            "bottom": null,
            "_model_module": "@jupyter-widgets/base",
            "top": null,
            "grid_column": null,
            "overflow_y": null,
            "overflow_x": null,
            "grid_auto_flow": null,
            "grid_area": null,
            "grid_template_columns": null,
            "flex": null,
            "_model_name": "LayoutModel",
            "justify_items": null,
            "grid_row": null,
            "max_height": null,
            "align_content": null,
            "visibility": null,
            "align_self": null,
            "height": null,
            "min_height": null,
            "padding": null,
            "grid_auto_rows": null,
            "grid_gap": null,
            "max_width": null,
            "order": null,
            "_view_module_version": "1.2.0",
            "grid_template_areas": null,
            "object_position": null,
            "object_fit": null,
            "grid_auto_columns": null,
            "margin": null,
            "display": null,
            "left": null
          }
        },
        "58f03b7731904c34b0b2fe5ac6c4e01c": {
          "model_module": "@jupyter-widgets/controls",
          "model_name": "DescriptionStyleModel",
          "state": {
            "_view_name": "StyleView",
            "_model_name": "DescriptionStyleModel",
            "description_width": "",
            "_view_module": "@jupyter-widgets/base",
            "_model_module_version": "1.5.0",
            "_view_count": null,
            "_view_module_version": "1.2.0",
            "_model_module": "@jupyter-widgets/controls"
          }
        },
        "4c943021643f459a8d29a8b9b215c92e": {
          "model_module": "@jupyter-widgets/base",
          "model_name": "LayoutModel",
          "state": {
            "_view_name": "LayoutView",
            "grid_template_rows": null,
            "right": null,
            "justify_content": null,
            "_view_module": "@jupyter-widgets/base",
            "overflow": null,
            "_model_module_version": "1.2.0",
            "_view_count": null,
            "flex_flow": null,
            "width": null,
            "min_width": null,
            "border": null,
            "align_items": null,
            "bottom": null,
            "_model_module": "@jupyter-widgets/base",
            "top": null,
            "grid_column": null,
            "overflow_y": null,
            "overflow_x": null,
            "grid_auto_flow": null,
            "grid_area": null,
            "grid_template_columns": null,
            "flex": null,
            "_model_name": "LayoutModel",
            "justify_items": null,
            "grid_row": null,
            "max_height": null,
            "align_content": null,
            "visibility": null,
            "align_self": null,
            "height": null,
            "min_height": null,
            "padding": null,
            "grid_auto_rows": null,
            "grid_gap": null,
            "max_width": null,
            "order": null,
            "_view_module_version": "1.2.0",
            "grid_template_areas": null,
            "object_position": null,
            "object_fit": null,
            "grid_auto_columns": null,
            "margin": null,
            "display": null,
            "left": null
          }
        },
        "dcc775d9d7c7461a8c0619b247204939": {
          "model_module": "@jupyter-widgets/controls",
          "model_name": "HBoxModel",
          "state": {
            "_view_name": "HBoxView",
            "_dom_classes": [],
            "_model_name": "HBoxModel",
            "_view_module": "@jupyter-widgets/controls",
            "_model_module_version": "1.5.0",
            "_view_count": null,
            "_view_module_version": "1.5.0",
            "box_style": "",
            "layout": "IPY_MODEL_97e07ed50734437d97c4bec6be338d45",
            "_model_module": "@jupyter-widgets/controls",
            "children": [
              "IPY_MODEL_1cb3b59389064846a71ca22b28f8e5f8",
              "IPY_MODEL_d69b4b00fbca4f06af69142433b263ec"
            ]
          }
        },
        "97e07ed50734437d97c4bec6be338d45": {
          "model_module": "@jupyter-widgets/base",
          "model_name": "LayoutModel",
          "state": {
            "_view_name": "LayoutView",
            "grid_template_rows": null,
            "right": null,
            "justify_content": null,
            "_view_module": "@jupyter-widgets/base",
            "overflow": null,
            "_model_module_version": "1.2.0",
            "_view_count": null,
            "flex_flow": null,
            "width": null,
            "min_width": null,
            "border": null,
            "align_items": null,
            "bottom": null,
            "_model_module": "@jupyter-widgets/base",
            "top": null,
            "grid_column": null,
            "overflow_y": null,
            "overflow_x": null,
            "grid_auto_flow": null,
            "grid_area": null,
            "grid_template_columns": null,
            "flex": null,
            "_model_name": "LayoutModel",
            "justify_items": null,
            "grid_row": null,
            "max_height": null,
            "align_content": null,
            "visibility": null,
            "align_self": null,
            "height": null,
            "min_height": null,
            "padding": null,
            "grid_auto_rows": null,
            "grid_gap": null,
            "max_width": null,
            "order": null,
            "_view_module_version": "1.2.0",
            "grid_template_areas": null,
            "object_position": null,
            "object_fit": null,
            "grid_auto_columns": null,
            "margin": null,
            "display": null,
            "left": null
          }
        },
        "1cb3b59389064846a71ca22b28f8e5f8": {
          "model_module": "@jupyter-widgets/controls",
          "model_name": "FloatProgressModel",
          "state": {
            "_view_name": "ProgressView",
            "style": "IPY_MODEL_bc86c26bbc324f6199fbe787683c0da4",
            "_dom_classes": [],
            "description": "",
            "_model_name": "FloatProgressModel",
            "bar_style": "info",
            "max": 1,
            "_view_module": "@jupyter-widgets/controls",
            "_model_module_version": "1.5.0",
            "value": 1,
            "_view_count": null,
            "_view_module_version": "1.5.0",
            "orientation": "horizontal",
            "min": 0,
            "description_tooltip": null,
            "_model_module": "@jupyter-widgets/controls",
            "layout": "IPY_MODEL_85067338fc57450589915d396719ad6c"
          }
        },
        "d69b4b00fbca4f06af69142433b263ec": {
          "model_module": "@jupyter-widgets/controls",
          "model_name": "HTMLModel",
          "state": {
            "_view_name": "HTMLView",
            "style": "IPY_MODEL_7e2db6dcec724428a3f70422217b5143",
            "_dom_classes": [],
            "description": "",
            "_model_name": "HTMLModel",
            "placeholder": "​",
            "_view_module": "@jupyter-widgets/controls",
            "_model_module_version": "1.5.0",
            "value": " 1654784/? [00:18&lt;00:00, 575971.81it/s]",
            "_view_count": null,
            "_view_module_version": "1.5.0",
            "description_tooltip": null,
            "_model_module": "@jupyter-widgets/controls",
            "layout": "IPY_MODEL_d3597acab7ba46db9d7c403418d103ae"
          }
        },
        "bc86c26bbc324f6199fbe787683c0da4": {
          "model_module": "@jupyter-widgets/controls",
          "model_name": "ProgressStyleModel",
          "state": {
            "_view_name": "StyleView",
            "_model_name": "ProgressStyleModel",
            "description_width": "initial",
            "_view_module": "@jupyter-widgets/base",
            "_model_module_version": "1.5.0",
            "_view_count": null,
            "_view_module_version": "1.2.0",
            "bar_color": null,
            "_model_module": "@jupyter-widgets/controls"
          }
        },
        "85067338fc57450589915d396719ad6c": {
          "model_module": "@jupyter-widgets/base",
          "model_name": "LayoutModel",
          "state": {
            "_view_name": "LayoutView",
            "grid_template_rows": null,
            "right": null,
            "justify_content": null,
            "_view_module": "@jupyter-widgets/base",
            "overflow": null,
            "_model_module_version": "1.2.0",
            "_view_count": null,
            "flex_flow": null,
            "width": null,
            "min_width": null,
            "border": null,
            "align_items": null,
            "bottom": null,
            "_model_module": "@jupyter-widgets/base",
            "top": null,
            "grid_column": null,
            "overflow_y": null,
            "overflow_x": null,
            "grid_auto_flow": null,
            "grid_area": null,
            "grid_template_columns": null,
            "flex": null,
            "_model_name": "LayoutModel",
            "justify_items": null,
            "grid_row": null,
            "max_height": null,
            "align_content": null,
            "visibility": null,
            "align_self": null,
            "height": null,
            "min_height": null,
            "padding": null,
            "grid_auto_rows": null,
            "grid_gap": null,
            "max_width": null,
            "order": null,
            "_view_module_version": "1.2.0",
            "grid_template_areas": null,
            "object_position": null,
            "object_fit": null,
            "grid_auto_columns": null,
            "margin": null,
            "display": null,
            "left": null
          }
        },
        "7e2db6dcec724428a3f70422217b5143": {
          "model_module": "@jupyter-widgets/controls",
          "model_name": "DescriptionStyleModel",
          "state": {
            "_view_name": "StyleView",
            "_model_name": "DescriptionStyleModel",
            "description_width": "",
            "_view_module": "@jupyter-widgets/base",
            "_model_module_version": "1.5.0",
            "_view_count": null,
            "_view_module_version": "1.2.0",
            "_model_module": "@jupyter-widgets/controls"
          }
        },
        "d3597acab7ba46db9d7c403418d103ae": {
          "model_module": "@jupyter-widgets/base",
          "model_name": "LayoutModel",
          "state": {
            "_view_name": "LayoutView",
            "grid_template_rows": null,
            "right": null,
            "justify_content": null,
            "_view_module": "@jupyter-widgets/base",
            "overflow": null,
            "_model_module_version": "1.2.0",
            "_view_count": null,
            "flex_flow": null,
            "width": null,
            "min_width": null,
            "border": null,
            "align_items": null,
            "bottom": null,
            "_model_module": "@jupyter-widgets/base",
            "top": null,
            "grid_column": null,
            "overflow_y": null,
            "overflow_x": null,
            "grid_auto_flow": null,
            "grid_area": null,
            "grid_template_columns": null,
            "flex": null,
            "_model_name": "LayoutModel",
            "justify_items": null,
            "grid_row": null,
            "max_height": null,
            "align_content": null,
            "visibility": null,
            "align_self": null,
            "height": null,
            "min_height": null,
            "padding": null,
            "grid_auto_rows": null,
            "grid_gap": null,
            "max_width": null,
            "order": null,
            "_view_module_version": "1.2.0",
            "grid_template_areas": null,
            "object_position": null,
            "object_fit": null,
            "grid_auto_columns": null,
            "margin": null,
            "display": null,
            "left": null
          }
        },
        "5e92fe6034cf447ab4a22f381d9d54a2": {
          "model_module": "@jupyter-widgets/controls",
          "model_name": "HBoxModel",
          "state": {
            "_view_name": "HBoxView",
            "_dom_classes": [],
            "_model_name": "HBoxModel",
            "_view_module": "@jupyter-widgets/controls",
            "_model_module_version": "1.5.0",
            "_view_count": null,
            "_view_module_version": "1.5.0",
            "box_style": "",
            "layout": "IPY_MODEL_b401429e75404afd95eb0bbd42282b83",
            "_model_module": "@jupyter-widgets/controls",
            "children": [
              "IPY_MODEL_ab84647fe1214f1490b3b977a7c864f5",
              "IPY_MODEL_1f67352a69df4fd8863e2b9ac37b1a27"
            ]
          }
        },
        "b401429e75404afd95eb0bbd42282b83": {
          "model_module": "@jupyter-widgets/base",
          "model_name": "LayoutModel",
          "state": {
            "_view_name": "LayoutView",
            "grid_template_rows": null,
            "right": null,
            "justify_content": null,
            "_view_module": "@jupyter-widgets/base",
            "overflow": null,
            "_model_module_version": "1.2.0",
            "_view_count": null,
            "flex_flow": null,
            "width": null,
            "min_width": null,
            "border": null,
            "align_items": null,
            "bottom": null,
            "_model_module": "@jupyter-widgets/base",
            "top": null,
            "grid_column": null,
            "overflow_y": null,
            "overflow_x": null,
            "grid_auto_flow": null,
            "grid_area": null,
            "grid_template_columns": null,
            "flex": null,
            "_model_name": "LayoutModel",
            "justify_items": null,
            "grid_row": null,
            "max_height": null,
            "align_content": null,
            "visibility": null,
            "align_self": null,
            "height": null,
            "min_height": null,
            "padding": null,
            "grid_auto_rows": null,
            "grid_gap": null,
            "max_width": null,
            "order": null,
            "_view_module_version": "1.2.0",
            "grid_template_areas": null,
            "object_position": null,
            "object_fit": null,
            "grid_auto_columns": null,
            "margin": null,
            "display": null,
            "left": null
          }
        },
        "ab84647fe1214f1490b3b977a7c864f5": {
          "model_module": "@jupyter-widgets/controls",
          "model_name": "FloatProgressModel",
          "state": {
            "_view_name": "ProgressView",
            "style": "IPY_MODEL_85364fa979b4426b8530a28198f088be",
            "_dom_classes": [],
            "description": "",
            "_model_name": "FloatProgressModel",
            "bar_style": "success",
            "max": 1,
            "_view_module": "@jupyter-widgets/controls",
            "_model_module_version": "1.5.0",
            "value": 1,
            "_view_count": null,
            "_view_module_version": "1.5.0",
            "orientation": "horizontal",
            "min": 0,
            "description_tooltip": null,
            "_model_module": "@jupyter-widgets/controls",
            "layout": "IPY_MODEL_5ef1b86fd9d14500957992103f3e7f3e"
          }
        },
        "1f67352a69df4fd8863e2b9ac37b1a27": {
          "model_module": "@jupyter-widgets/controls",
          "model_name": "HTMLModel",
          "state": {
            "_view_name": "HTMLView",
            "style": "IPY_MODEL_ef2ef581f1ff42a897ea4bc95c69bf16",
            "_dom_classes": [],
            "description": "",
            "_model_name": "HTMLModel",
            "placeholder": "​",
            "_view_module": "@jupyter-widgets/controls",
            "_model_module_version": "1.5.0",
            "value": " 8192/? [00:00&lt;00:00, 14915.96it/s]",
            "_view_count": null,
            "_view_module_version": "1.5.0",
            "description_tooltip": null,
            "_model_module": "@jupyter-widgets/controls",
            "layout": "IPY_MODEL_e2c8ddf6b6b24e89b57e5120036824b3"
          }
        },
        "85364fa979b4426b8530a28198f088be": {
          "model_module": "@jupyter-widgets/controls",
          "model_name": "ProgressStyleModel",
          "state": {
            "_view_name": "StyleView",
            "_model_name": "ProgressStyleModel",
            "description_width": "initial",
            "_view_module": "@jupyter-widgets/base",
            "_model_module_version": "1.5.0",
            "_view_count": null,
            "_view_module_version": "1.2.0",
            "bar_color": null,
            "_model_module": "@jupyter-widgets/controls"
          }
        },
        "5ef1b86fd9d14500957992103f3e7f3e": {
          "model_module": "@jupyter-widgets/base",
          "model_name": "LayoutModel",
          "state": {
            "_view_name": "LayoutView",
            "grid_template_rows": null,
            "right": null,
            "justify_content": null,
            "_view_module": "@jupyter-widgets/base",
            "overflow": null,
            "_model_module_version": "1.2.0",
            "_view_count": null,
            "flex_flow": null,
            "width": null,
            "min_width": null,
            "border": null,
            "align_items": null,
            "bottom": null,
            "_model_module": "@jupyter-widgets/base",
            "top": null,
            "grid_column": null,
            "overflow_y": null,
            "overflow_x": null,
            "grid_auto_flow": null,
            "grid_area": null,
            "grid_template_columns": null,
            "flex": null,
            "_model_name": "LayoutModel",
            "justify_items": null,
            "grid_row": null,
            "max_height": null,
            "align_content": null,
            "visibility": null,
            "align_self": null,
            "height": null,
            "min_height": null,
            "padding": null,
            "grid_auto_rows": null,
            "grid_gap": null,
            "max_width": null,
            "order": null,
            "_view_module_version": "1.2.0",
            "grid_template_areas": null,
            "object_position": null,
            "object_fit": null,
            "grid_auto_columns": null,
            "margin": null,
            "display": null,
            "left": null
          }
        },
        "ef2ef581f1ff42a897ea4bc95c69bf16": {
          "model_module": "@jupyter-widgets/controls",
          "model_name": "DescriptionStyleModel",
          "state": {
            "_view_name": "StyleView",
            "_model_name": "DescriptionStyleModel",
            "description_width": "",
            "_view_module": "@jupyter-widgets/base",
            "_model_module_version": "1.5.0",
            "_view_count": null,
            "_view_module_version": "1.2.0",
            "_model_module": "@jupyter-widgets/controls"
          }
        },
        "e2c8ddf6b6b24e89b57e5120036824b3": {
          "model_module": "@jupyter-widgets/base",
          "model_name": "LayoutModel",
          "state": {
            "_view_name": "LayoutView",
            "grid_template_rows": null,
            "right": null,
            "justify_content": null,
            "_view_module": "@jupyter-widgets/base",
            "overflow": null,
            "_model_module_version": "1.2.0",
            "_view_count": null,
            "flex_flow": null,
            "width": null,
            "min_width": null,
            "border": null,
            "align_items": null,
            "bottom": null,
            "_model_module": "@jupyter-widgets/base",
            "top": null,
            "grid_column": null,
            "overflow_y": null,
            "overflow_x": null,
            "grid_auto_flow": null,
            "grid_area": null,
            "grid_template_columns": null,
            "flex": null,
            "_model_name": "LayoutModel",
            "justify_items": null,
            "grid_row": null,
            "max_height": null,
            "align_content": null,
            "visibility": null,
            "align_self": null,
            "height": null,
            "min_height": null,
            "padding": null,
            "grid_auto_rows": null,
            "grid_gap": null,
            "max_width": null,
            "order": null,
            "_view_module_version": "1.2.0",
            "grid_template_areas": null,
            "object_position": null,
            "object_fit": null,
            "grid_auto_columns": null,
            "margin": null,
            "display": null,
            "left": null
          }
        }
      }
    }
  },
  "cells": [
    {
      "cell_type": "code",
      "metadata": {
        "id": "4-OXBNDaj25T"
      },
      "source": [
        "import numpy as np\r\n",
        "import matplotlib.pyplot as plt\r\n",
        "import torch\r\n",
        "import torch.nn as nn\r\n",
        "import torch.nn.functional as F\r\n",
        "from torchvision import transforms, datasets"
      ],
      "execution_count": 3,
      "outputs": []
    },
    {
      "cell_type": "code",
      "metadata": {
        "colab": {
          "base_uri": "https://localhost:8080/"
        },
        "id": "wkq7T1VXkS3S",
        "outputId": "f0d72240-f65f-4729-d33f-0ad1f0fd745e"
      },
      "source": [
        "if torch.cuda.is_available():\r\n",
        "    DEVICE = torch.device('cuda')\r\n",
        "else:\r\n",
        "    DEVICE = torch.device('cpu')\r\n",
        "print('Using PyTorch version:', torch.__version__, ' Device:', DEVICE)\r\n"
      ],
      "execution_count": 4,
      "outputs": [
        {
          "output_type": "stream",
          "text": [
            "Using PyTorch version: 1.7.0+cu101  Device: cuda\n"
          ],
          "name": "stdout"
        }
      ]
    },
    {
      "cell_type": "code",
      "metadata": {
        "id": "PpOXv_XfkU-h"
      },
      "source": [
        "BATCH_SIZE = 32\r\n",
        "EPOCHS = 10"
      ],
      "execution_count": 5,
      "outputs": []
    },
    {
      "cell_type": "code",
      "metadata": {
        "colab": {
          "base_uri": "https://localhost:8080/",
          "height": 401,
          "referenced_widgets": [
            "7123cb528a55406cb67b3c76b0576a72",
            "ee6f3dfc96f749e9af57507d566ed3d3",
            "74c49d9a1f194623a10b199347d0af8f",
            "6e359caccb5545f897edfc468fc19a4e",
            "2d4b283679cf4ca1937e7ea809d7da3f",
            "b764926546594e6bbd0d480cfc651d10",
            "1ae74d7f68984597b2ea029616200591",
            "81d1fd2ff8e9406b9ad32b5b9be3739c",
            "42e69f035a4347c3b8f94bdd9537f367",
            "6cf4b741d7f74d24b8ad1c120eeb5ccc",
            "dabf82c8775b48ecbf47795b23214455",
            "3c9cf7324bc44d45b11232db249c37f0",
            "2c7fe20e7c274691b19ebb2c08e46dae",
            "3b6b160692084068bf937497f00a2eb9",
            "58f03b7731904c34b0b2fe5ac6c4e01c",
            "4c943021643f459a8d29a8b9b215c92e",
            "dcc775d9d7c7461a8c0619b247204939",
            "97e07ed50734437d97c4bec6be338d45",
            "1cb3b59389064846a71ca22b28f8e5f8",
            "d69b4b00fbca4f06af69142433b263ec",
            "bc86c26bbc324f6199fbe787683c0da4",
            "85067338fc57450589915d396719ad6c",
            "7e2db6dcec724428a3f70422217b5143",
            "d3597acab7ba46db9d7c403418d103ae",
            "5e92fe6034cf447ab4a22f381d9d54a2",
            "b401429e75404afd95eb0bbd42282b83",
            "ab84647fe1214f1490b3b977a7c864f5",
            "1f67352a69df4fd8863e2b9ac37b1a27",
            "85364fa979b4426b8530a28198f088be",
            "5ef1b86fd9d14500957992103f3e7f3e",
            "ef2ef581f1ff42a897ea4bc95c69bf16",
            "e2c8ddf6b6b24e89b57e5120036824b3"
          ]
        },
        "id": "2pNN-nq2lZTR",
        "outputId": "d37dd50d-b727-4318-f25b-b505a2e2c8c4"
      },
      "source": [
        "train_dataset = datasets.MNIST(root = \"../data/MNIST\",\r\n",
        "                               train = True,\r\n",
        "                               download = True,\r\n",
        "                               transform = transforms.ToTensor())\r\n",
        "test_dataset = datasets.MNIST(root = \"../data/MNIST\",\r\n",
        "                               train = False,\r\n",
        "                               transform = transforms.ToTensor())\r\n",
        "train_loader = torch.utils.data.DataLoader(dataset = train_dataset,\r\n",
        "                                            batch_size = BATCH_SIZE,\r\n",
        "                                            shuffle = True)\r\n",
        "test_loader = torch.utils.data.DataLoader(dataset = test_dataset,\r\n",
        "                                            batch_size = BATCH_SIZE,\r\n",
        "                                            shuffle = False)"
      ],
      "execution_count": 6,
      "outputs": [
        {
          "output_type": "stream",
          "text": [
            "Downloading http://yann.lecun.com/exdb/mnist/train-images-idx3-ubyte.gz to ../data/MNIST/MNIST/raw/train-images-idx3-ubyte.gz\n"
          ],
          "name": "stdout"
        },
        {
          "output_type": "display_data",
          "data": {
            "application/vnd.jupyter.widget-view+json": {
              "model_id": "7123cb528a55406cb67b3c76b0576a72",
              "version_minor": 0,
              "version_major": 2
            },
            "text/plain": [
              "HBox(children=(FloatProgress(value=1.0, bar_style='info', max=1.0), HTML(value='')))"
            ]
          },
          "metadata": {
            "tags": []
          }
        },
        {
          "output_type": "stream",
          "text": [
            "Extracting ../data/MNIST/MNIST/raw/train-images-idx3-ubyte.gz to ../data/MNIST/MNIST/raw\n",
            "Downloading http://yann.lecun.com/exdb/mnist/train-labels-idx1-ubyte.gz to ../data/MNIST/MNIST/raw/train-labels-idx1-ubyte.gz\n"
          ],
          "name": "stdout"
        },
        {
          "output_type": "display_data",
          "data": {
            "application/vnd.jupyter.widget-view+json": {
              "model_id": "42e69f035a4347c3b8f94bdd9537f367",
              "version_minor": 0,
              "version_major": 2
            },
            "text/plain": [
              "HBox(children=(FloatProgress(value=1.0, bar_style='info', max=1.0), HTML(value='')))"
            ]
          },
          "metadata": {
            "tags": []
          }
        },
        {
          "output_type": "stream",
          "text": [
            "Extracting ../data/MNIST/MNIST/raw/train-labels-idx1-ubyte.gz to ../data/MNIST/MNIST/raw\n",
            "Downloading http://yann.lecun.com/exdb/mnist/t10k-images-idx3-ubyte.gz to ../data/MNIST/MNIST/raw/t10k-images-idx3-ubyte.gz\n",
            "\n"
          ],
          "name": "stdout"
        },
        {
          "output_type": "display_data",
          "data": {
            "application/vnd.jupyter.widget-view+json": {
              "model_id": "dcc775d9d7c7461a8c0619b247204939",
              "version_minor": 0,
              "version_major": 2
            },
            "text/plain": [
              "HBox(children=(FloatProgress(value=1.0, bar_style='info', max=1.0), HTML(value='')))"
            ]
          },
          "metadata": {
            "tags": []
          }
        },
        {
          "output_type": "stream",
          "text": [
            "Extracting ../data/MNIST/MNIST/raw/t10k-images-idx3-ubyte.gz to ../data/MNIST/MNIST/raw\n",
            "Downloading http://yann.lecun.com/exdb/mnist/t10k-labels-idx1-ubyte.gz to ../data/MNIST/MNIST/raw/t10k-labels-idx1-ubyte.gz\n"
          ],
          "name": "stdout"
        },
        {
          "output_type": "display_data",
          "data": {
            "application/vnd.jupyter.widget-view+json": {
              "model_id": "5e92fe6034cf447ab4a22f381d9d54a2",
              "version_minor": 0,
              "version_major": 2
            },
            "text/plain": [
              "HBox(children=(FloatProgress(value=1.0, bar_style='info', max=1.0), HTML(value='')))"
            ]
          },
          "metadata": {
            "tags": []
          }
        },
        {
          "output_type": "stream",
          "text": [
            "Extracting ../data/MNIST/MNIST/raw/t10k-labels-idx1-ubyte.gz to ../data/MNIST/MNIST/raw\n",
            "Processing...\n",
            "Done!\n"
          ],
          "name": "stdout"
        },
        {
          "output_type": "stream",
          "text": [
            "/usr/local/lib/python3.6/dist-packages/torchvision/datasets/mnist.py:480: UserWarning: The given NumPy array is not writeable, and PyTorch does not support non-writeable tensors. This means you can write to the underlying (supposedly non-writeable) NumPy array using the tensor. You may want to copy the array to protect its data or make it writeable before converting it to a tensor. This type of warning will be suppressed for the rest of this program. (Triggered internally at  /pytorch/torch/csrc/utils/tensor_numpy.cpp:141.)\n",
            "  return torch.from_numpy(parsed.astype(m[2], copy=False)).view(*s)\n"
          ],
          "name": "stderr"
        }
      ]
    },
    {
      "cell_type": "code",
      "metadata": {
        "colab": {
          "base_uri": "https://localhost:8080/"
        },
        "id": "CChQRPUzxbt2",
        "outputId": "422f1ff2-42c3-4208-85bd-1c0b1e4c0422"
      },
      "source": [
        "for X_train, y_train in train_loader:\r\n",
        "    print('X_train:', X_train.size(), 'type:', X_train.type())\r\n",
        "    print('y_train:', y_train.size(), 'type:', y_train.type())\r\n",
        "    break"
      ],
      "execution_count": 7,
      "outputs": [
        {
          "output_type": "stream",
          "text": [
            "X_train: torch.Size([32, 1, 28, 28]) type: torch.FloatTensor\n",
            "y_train: torch.Size([32]) type: torch.LongTensor\n"
          ],
          "name": "stdout"
        }
      ]
    },
    {
      "cell_type": "code",
      "metadata": {
        "colab": {
          "base_uri": "https://localhost:8080/",
          "height": 94
        },
        "id": "n17YbzolGrc2",
        "outputId": "34bde977-4a65-46c0-9ca6-9ef18c9be836"
      },
      "source": [
        "pltsize = 1\r\n",
        "plt.figure(figsize=(10 * pltsize, pltsize))\r\n",
        "for i in range(10):\r\n",
        "  plt.subplot(1, 10, i+1)\r\n",
        "  plt.axis('off')\r\n",
        "  plt.imshow(X_train[i, :, :, :].numpy().reshape(28, 28), cmap = \"gray_r\")\r\n",
        "  plt.title('Class: ' + str(y_train[i].item()))"
      ],
      "execution_count": 8,
      "outputs": [
        {
          "output_type": "display_data",
          "data": {
            "image/png": "[encoded data removed]",
            "text/plain": [
              "<Figure size 720x72 with 10 Axes>"
            ]
          },
          "metadata": {
            "tags": [],
            "needs_background": "light"
          }
        }
      ]
    },
    {
      "cell_type": "code",
      "metadata": {
        "id": "CfeWJ-zvHSor"
      },
      "source": [
        "class Net(nn.Module):\r\n",
        "  def __init__(self):\r\n",
        "    super(Net, self).__init__()\r\n",
        "    self.fc1 = nn.Linear(28 * 28, 512)\r\n",
        "    self.fc2 = nn.Linear(512, 256)\r\n",
        "    self.fc3 = nn.Linear(256, 10)\r\n",
        "  def forward(self, x):\r\n",
        "    x = x.view(-1, 28 * 28)\r\n",
        "    x = self.fc1(x)\r\n",
        "    x = F.sigmoid(x)\r\n",
        "    x = self.fc2(x)\r\n",
        "    x = F.sigmoid(x)\r\n",
        "    x = self.fc3(x)\r\n",
        "    x = F.log_softmax(x, dim = 1)\r\n",
        "    return x"
      ],
      "execution_count": 12,
      "outputs": []
    },
    {
      "cell_type": "code",
      "metadata": {
        "colab": {
          "base_uri": "https://localhost:8080/"
        },
        "id": "ICeOMVmHIhqt",
        "outputId": "e7b918f3-56be-4ad6-9922-1034a998afe9"
      },
      "source": [
        "model = Net().to(DEVICE)\r\n",
        "optimizer = torch.optim.SGD(model.parameters(), lr = 0.01, momentum = 0.5)\r\n",
        "criterion = nn.CrossEntropyLoss()\r\n",
        "\r\n",
        "print(model)"
      ],
      "execution_count": 13,
      "outputs": [
        {
          "output_type": "stream",
          "text": [
            "Net(\n",
            "  (fc1): Linear(in_features=784, out_features=512, bias=True)\n",
            "  (fc2): Linear(in_features=512, out_features=256, bias=True)\n",
            "  (fc3): Linear(in_features=256, out_features=10, bias=True)\n",
            ")\n"
          ],
          "name": "stdout"
        }
      ]
    },
    {
      "cell_type": "code",
      "metadata": {
        "id": "tqV1RDHFIpeB"
      },
      "source": [
        "def train(model, train_loader, optimizer, log_interval):\r\n",
        "  model.train()\r\n",
        "  for batch_idx, (image, label) in enumerate(train_loader):\r\n",
        "    image = image.to(DEVICE)\r\n",
        "    label = label.to(DEVICE)\r\n",
        "    optimizer.zero_grad()\r\n",
        "    output = model(image)\r\n",
        "    loss = criterion(output, label)\r\n",
        "    loss.backward()\r\n",
        "    optimizer.step()\r\n",
        "\r\n",
        "    if batch_idx % log_interval == 0:\r\n",
        "      print(\"Train Epoch: {} [{}/{}({:.0f}%)]\\tTrain Loss: {:.6f}\".format(\r\n",
        "          Epoch, batch_idx * len(image),\r\n",
        "          len(train_loader.dataset), 100. * batch_idx / len(train_loader),\r\n",
        "          loss.item()))"
      ],
      "execution_count": 15,
      "outputs": []
    },
    {
      "cell_type": "code",
      "metadata": {
        "id": "hv8aI8CPJcAh"
      },
      "source": [
        "def evaluate(model, test_loader):\r\n",
        "  model.eval()\r\n",
        "  test_loss = 0\r\n",
        "  correct = 0\r\n",
        "\r\n",
        "  with torch.no_grad():\r\n",
        "    for image, label in test_loader:\r\n",
        "      image = image.to(DEVICE)\r\n",
        "      label = label.to(DEVICE)\r\n",
        "      output = model(image)\r\n",
        "      test_loss += criterion(output, label).item()\r\n",
        "      prediction = output.max(1, keepdim = True)[1]\r\n",
        "      correct += prediction.eq(label.view_as(prediction)).sum().item()\r\n",
        "\r\n",
        "  test_loss /= len(test_loader.dataset)\r\n",
        "  test_accuracy = 100. * correct / len(test_loader.dataset)\r\n",
        "  return test_loss, test_accuracy"
      ],
      "execution_count": 16,
      "outputs": []
    },
    {
      "cell_type": "code",
      "metadata": {
        "colab": {
          "base_uri": "https://localhost:8080/"
        },
        "id": "XPIKZuhOKfkb",
        "outputId": "2884dfe6-0ea6-4ed4-f4d0-d1efe8af74f0"
      },
      "source": [
        "for Epoch in range(1, EPOCHS + 1):\r\n",
        "  train(model, train_loader, optimizer, log_interval = 200)\r\n",
        "  test_loss, test_accuracy = evaluate(model, test_loader)\r\n",
        "  print(\"\\n[EPOCH: {}], \\tTest Loss: {:.4f}, \\tTest Accuracy: {:.2f} %\\n\".format(\r\n",
        "      Epoch, test_loss, test_accuracy))"
      ],
      "execution_count": 17,
      "outputs": [
        {
          "output_type": "stream",
          "text": [
            "/usr/local/lib/python3.6/dist-packages/torch/nn/functional.py:1639: UserWarning: nn.functional.sigmoid is deprecated. Use torch.sigmoid instead.\n",
            "  warnings.warn(\"nn.functional.sigmoid is deprecated. Use torch.sigmoid instead.\")\n"
          ],
          "name": "stderr"
        },
        {
          "output_type": "stream",
          "text": [
            "Train Epoch: 1 [0/60000(0%)]\tTrain Loss: 2.297192\n",
            "Train Epoch: 1 [6400/60000(11%)]\tTrain Loss: 2.304028\n",
            "Train Epoch: 1 [12800/60000(21%)]\tTrain Loss: 2.316219\n",
            "Train Epoch: 1 [19200/60000(32%)]\tTrain Loss: 2.281358\n",
            "Train Epoch: 1 [25600/60000(43%)]\tTrain Loss: 2.254371\n",
            "Train Epoch: 1 [32000/60000(53%)]\tTrain Loss: 2.312528\n",
            "Train Epoch: 1 [38400/60000(64%)]\tTrain Loss: 2.261489\n",
            "Train Epoch: 1 [44800/60000(75%)]\tTrain Loss: 2.277340\n",
            "Train Epoch: 1 [51200/60000(85%)]\tTrain Loss: 2.266665\n",
            "Train Epoch: 1 [57600/60000(96%)]\tTrain Loss: 2.249250\n",
            "\n",
            "[EPOCH: 1], \tTest Loss: 0.0704, \tTest Accuracy: 15.54 %\n",
            "\n",
            "Train Epoch: 2 [0/60000(0%)]\tTrain Loss: 2.224190\n",
            "Train Epoch: 2 [6400/60000(11%)]\tTrain Loss: 2.234865\n",
            "Train Epoch: 2 [12800/60000(21%)]\tTrain Loss: 2.190663\n",
            "Train Epoch: 2 [19200/60000(32%)]\tTrain Loss: 2.090085\n",
            "Train Epoch: 2 [25600/60000(43%)]\tTrain Loss: 1.986725\n",
            "Train Epoch: 2 [32000/60000(53%)]\tTrain Loss: 1.954756\n",
            "Train Epoch: 2 [38400/60000(64%)]\tTrain Loss: 1.842040\n",
            "Train Epoch: 2 [44800/60000(75%)]\tTrain Loss: 1.566393\n",
            "Train Epoch: 2 [51200/60000(85%)]\tTrain Loss: 1.625847\n",
            "Train Epoch: 2 [57600/60000(96%)]\tTrain Loss: 1.241672\n",
            "\n",
            "[EPOCH: 2], \tTest Loss: 0.0396, \tTest Accuracy: 64.55 %\n",
            "\n",
            "Train Epoch: 3 [0/60000(0%)]\tTrain Loss: 1.246128\n",
            "Train Epoch: 3 [6400/60000(11%)]\tTrain Loss: 1.019898\n",
            "Train Epoch: 3 [12800/60000(21%)]\tTrain Loss: 1.120154\n",
            "Train Epoch: 3 [19200/60000(32%)]\tTrain Loss: 0.883609\n",
            "Train Epoch: 3 [25600/60000(43%)]\tTrain Loss: 0.906343\n",
            "Train Epoch: 3 [32000/60000(53%)]\tTrain Loss: 0.838563\n",
            "Train Epoch: 3 [38400/60000(64%)]\tTrain Loss: 0.710817\n",
            "Train Epoch: 3 [44800/60000(75%)]\tTrain Loss: 0.840874\n",
            "Train Epoch: 3 [51200/60000(85%)]\tTrain Loss: 0.908081\n",
            "Train Epoch: 3 [57600/60000(96%)]\tTrain Loss: 0.968737\n",
            "\n",
            "[EPOCH: 3], \tTest Loss: 0.0239, \tTest Accuracy: 75.69 %\n",
            "\n",
            "Train Epoch: 4 [0/60000(0%)]\tTrain Loss: 1.003102\n",
            "Train Epoch: 4 [6400/60000(11%)]\tTrain Loss: 0.660294\n",
            "Train Epoch: 4 [12800/60000(21%)]\tTrain Loss: 0.530226\n",
            "Train Epoch: 4 [19200/60000(32%)]\tTrain Loss: 0.625597\n",
            "Train Epoch: 4 [25600/60000(43%)]\tTrain Loss: 0.735875\n",
            "Train Epoch: 4 [32000/60000(53%)]\tTrain Loss: 0.429885\n",
            "Train Epoch: 4 [38400/60000(64%)]\tTrain Loss: 0.593392\n",
            "Train Epoch: 4 [44800/60000(75%)]\tTrain Loss: 0.553691\n",
            "Train Epoch: 4 [51200/60000(85%)]\tTrain Loss: 0.416123\n",
            "Train Epoch: 4 [57600/60000(96%)]\tTrain Loss: 0.553934\n",
            "\n",
            "[EPOCH: 4], \tTest Loss: 0.0181, \tTest Accuracy: 82.96 %\n",
            "\n",
            "Train Epoch: 5 [0/60000(0%)]\tTrain Loss: 0.653446\n",
            "Train Epoch: 5 [6400/60000(11%)]\tTrain Loss: 0.552827\n",
            "Train Epoch: 5 [12800/60000(21%)]\tTrain Loss: 0.519088\n",
            "Train Epoch: 5 [19200/60000(32%)]\tTrain Loss: 0.456468\n",
            "Train Epoch: 5 [25600/60000(43%)]\tTrain Loss: 0.652637\n",
            "Train Epoch: 5 [32000/60000(53%)]\tTrain Loss: 0.419267\n",
            "Train Epoch: 5 [38400/60000(64%)]\tTrain Loss: 0.554092\n",
            "Train Epoch: 5 [44800/60000(75%)]\tTrain Loss: 0.529571\n",
            "Train Epoch: 5 [51200/60000(85%)]\tTrain Loss: 0.525870\n",
            "Train Epoch: 5 [57600/60000(96%)]\tTrain Loss: 0.671504\n",
            "\n",
            "[EPOCH: 5], \tTest Loss: 0.0146, \tTest Accuracy: 86.46 %\n",
            "\n",
            "Train Epoch: 6 [0/60000(0%)]\tTrain Loss: 0.396962\n",
            "Train Epoch: 6 [6400/60000(11%)]\tTrain Loss: 0.289092\n",
            "Train Epoch: 6 [12800/60000(21%)]\tTrain Loss: 0.500682\n",
            "Train Epoch: 6 [19200/60000(32%)]\tTrain Loss: 0.284158\n",
            "Train Epoch: 6 [25600/60000(43%)]\tTrain Loss: 0.304310\n",
            "Train Epoch: 6 [32000/60000(53%)]\tTrain Loss: 0.216015\n",
            "Train Epoch: 6 [38400/60000(64%)]\tTrain Loss: 0.303082\n",
            "Train Epoch: 6 [44800/60000(75%)]\tTrain Loss: 0.213912\n",
            "Train Epoch: 6 [51200/60000(85%)]\tTrain Loss: 0.538915\n",
            "Train Epoch: 6 [57600/60000(96%)]\tTrain Loss: 0.785816\n",
            "\n",
            "[EPOCH: 6], \tTest Loss: 0.0130, \tTest Accuracy: 88.01 %\n",
            "\n",
            "Train Epoch: 7 [0/60000(0%)]\tTrain Loss: 0.318826\n",
            "Train Epoch: 7 [6400/60000(11%)]\tTrain Loss: 0.429125\n",
            "Train Epoch: 7 [12800/60000(21%)]\tTrain Loss: 0.599649\n",
            "Train Epoch: 7 [19200/60000(32%)]\tTrain Loss: 0.350071\n",
            "Train Epoch: 7 [25600/60000(43%)]\tTrain Loss: 0.502010\n",
            "Train Epoch: 7 [32000/60000(53%)]\tTrain Loss: 0.675068\n",
            "Train Epoch: 7 [38400/60000(64%)]\tTrain Loss: 0.489291\n",
            "Train Epoch: 7 [44800/60000(75%)]\tTrain Loss: 0.233585\n",
            "Train Epoch: 7 [51200/60000(85%)]\tTrain Loss: 0.474119\n",
            "Train Epoch: 7 [57600/60000(96%)]\tTrain Loss: 0.530205\n",
            "\n",
            "[EPOCH: 7], \tTest Loss: 0.0121, \tTest Accuracy: 88.86 %\n",
            "\n",
            "Train Epoch: 8 [0/60000(0%)]\tTrain Loss: 0.315826\n",
            "Train Epoch: 8 [6400/60000(11%)]\tTrain Loss: 0.747360\n",
            "Train Epoch: 8 [12800/60000(21%)]\tTrain Loss: 0.249062\n",
            "Train Epoch: 8 [19200/60000(32%)]\tTrain Loss: 0.378840\n",
            "Train Epoch: 8 [25600/60000(43%)]\tTrain Loss: 0.234036\n",
            "Train Epoch: 8 [32000/60000(53%)]\tTrain Loss: 0.328579\n",
            "Train Epoch: 8 [38400/60000(64%)]\tTrain Loss: 0.432754\n",
            "Train Epoch: 8 [44800/60000(75%)]\tTrain Loss: 0.255128\n",
            "Train Epoch: 8 [51200/60000(85%)]\tTrain Loss: 0.166820\n",
            "Train Epoch: 8 [57600/60000(96%)]\tTrain Loss: 0.710931\n",
            "\n",
            "[EPOCH: 8], \tTest Loss: 0.0116, \tTest Accuracy: 89.08 %\n",
            "\n",
            "Train Epoch: 9 [0/60000(0%)]\tTrain Loss: 0.190427\n",
            "Train Epoch: 9 [6400/60000(11%)]\tTrain Loss: 0.355966\n",
            "Train Epoch: 9 [12800/60000(21%)]\tTrain Loss: 0.276261\n",
            "Train Epoch: 9 [19200/60000(32%)]\tTrain Loss: 0.548278\n",
            "Train Epoch: 9 [25600/60000(43%)]\tTrain Loss: 0.376314\n",
            "Train Epoch: 9 [32000/60000(53%)]\tTrain Loss: 0.194842\n",
            "Train Epoch: 9 [38400/60000(64%)]\tTrain Loss: 0.664818\n",
            "Train Epoch: 9 [44800/60000(75%)]\tTrain Loss: 0.532421\n",
            "Train Epoch: 9 [51200/60000(85%)]\tTrain Loss: 0.517598\n",
            "Train Epoch: 9 [57600/60000(96%)]\tTrain Loss: 0.397927\n",
            "\n",
            "[EPOCH: 9], \tTest Loss: 0.0109, \tTest Accuracy: 89.82 %\n",
            "\n",
            "Train Epoch: 10 [0/60000(0%)]\tTrain Loss: 0.241500\n",
            "Train Epoch: 10 [6400/60000(11%)]\tTrain Loss: 0.428207\n",
            "Train Epoch: 10 [12800/60000(21%)]\tTrain Loss: 0.224434\n",
            "Train Epoch: 10 [19200/60000(32%)]\tTrain Loss: 0.127530\n",
            "Train Epoch: 10 [25600/60000(43%)]\tTrain Loss: 0.306050\n",
            "Train Epoch: 10 [32000/60000(53%)]\tTrain Loss: 0.334624\n",
            "Train Epoch: 10 [38400/60000(64%)]\tTrain Loss: 0.225683\n",
            "Train Epoch: 10 [44800/60000(75%)]\tTrain Loss: 0.106572\n",
            "Train Epoch: 10 [51200/60000(85%)]\tTrain Loss: 0.185589\n",
            "Train Epoch: 10 [57600/60000(96%)]\tTrain Loss: 0.443608\n",
            "\n",
            "[EPOCH: 10], \tTest Loss: 0.0106, \tTest Accuracy: 90.20 %\n",
            "\n"
          ],
          "name": "stdout"
        }
      ]
    },
    {
      "cell_type": "code",
      "metadata": {
        "id": "wFLBE964LGxJ"
      },
      "source": [
        ""
      ],
      "execution_count": null,
      "outputs": []
    }
  ]
}