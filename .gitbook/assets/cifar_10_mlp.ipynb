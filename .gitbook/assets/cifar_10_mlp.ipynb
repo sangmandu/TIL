{
  "nbformat": 4,
  "nbformat_minor": 0,
  "metadata": {
    "colab": {
      "name": "CIFAR-10_CNN.ipynb",
      "provenance": []
    },
    "kernelspec": {
      "name": "python3",
      "display_name": "Python 3"
    },
    "accelerator": "GPU",
    "widgets": {
      "application/vnd.jupyter.widget-state+json": {
        "5fbc3625073d496ea8028416df943460": {
          "model_module": "@jupyter-widgets/controls",
          "model_name": "HBoxModel",
          "state": {
            "_view_name": "HBoxView",
            "_dom_classes": [],
            "_model_name": "HBoxModel",
            "_view_module": "@jupyter-widgets/controls",
            "_model_module_version": "1.5.0",
            "_view_count": null,
            "_view_module_version": "1.5.0",
            "box_style": "",
            "layout": "IPY_MODEL_cd23c1cb6bf249ae9d9a36b15b079916",
            "_model_module": "@jupyter-widgets/controls",
            "children": [
              "IPY_MODEL_369570b3ecdd4e15a95009aa8757c335",
              "IPY_MODEL_f6719187b5c64af486254994bd633d2d"
            ]
          }
        },
        "cd23c1cb6bf249ae9d9a36b15b079916": {
          "model_module": "@jupyter-widgets/base",
          "model_name": "LayoutModel",
          "state": {
            "_view_name": "LayoutView",
            "grid_template_rows": null,
            "right": null,
            "justify_content": null,
            "_view_module": "@jupyter-widgets/base",
            "overflow": null,
            "_model_module_version": "1.2.0",
            "_view_count": null,
            "flex_flow": null,
            "width": null,
            "min_width": null,
            "border": null,
            "align_items": null,
            "bottom": null,
            "_model_module": "@jupyter-widgets/base",
            "top": null,
            "grid_column": null,
            "overflow_y": null,
            "overflow_x": null,
            "grid_auto_flow": null,
            "grid_area": null,
            "grid_template_columns": null,
            "flex": null,
            "_model_name": "LayoutModel",
            "justify_items": null,
            "grid_row": null,
            "max_height": null,
            "align_content": null,
            "visibility": null,
            "align_self": null,
            "height": null,
            "min_height": null,
            "padding": null,
            "grid_auto_rows": null,
            "grid_gap": null,
            "max_width": null,
            "order": null,
            "_view_module_version": "1.2.0",
            "grid_template_areas": null,
            "object_position": null,
            "object_fit": null,
            "grid_auto_columns": null,
            "margin": null,
            "display": null,
            "left": null
          }
        },
        "369570b3ecdd4e15a95009aa8757c335": {
          "model_module": "@jupyter-widgets/controls",
          "model_name": "FloatProgressModel",
          "state": {
            "_view_name": "ProgressView",
            "style": "IPY_MODEL_dea5e077910d482289d6a4faa866879b",
            "_dom_classes": [],
            "description": "",
            "_model_name": "FloatProgressModel",
            "bar_style": "info",
            "max": 1,
            "_view_module": "@jupyter-widgets/controls",
            "_model_module_version": "1.5.0",
            "value": 1,
            "_view_count": null,
            "_view_module_version": "1.5.0",
            "orientation": "horizontal",
            "min": 0,
            "description_tooltip": null,
            "_model_module": "@jupyter-widgets/controls",
            "layout": "IPY_MODEL_68fb9ba951e343e6907ac09f38a1cac2"
          }
        },
        "f6719187b5c64af486254994bd633d2d": {
          "model_module": "@jupyter-widgets/controls",
          "model_name": "HTMLModel",
          "state": {
            "_view_name": "HTMLView",
            "style": "IPY_MODEL_6c214438830f450cbb38d461352d99f5",
            "_dom_classes": [],
            "description": "",
            "_model_name": "HTMLModel",
            "placeholder": "​",
            "_view_module": "@jupyter-widgets/controls",
            "_model_module_version": "1.5.0",
            "value": " 170500096/? [00:20&lt;00:00, 53273758.34it/s]",
            "_view_count": null,
            "_view_module_version": "1.5.0",
            "description_tooltip": null,
            "_model_module": "@jupyter-widgets/controls",
            "layout": "IPY_MODEL_4952d506a98848d39c860b40a25e1cca"
          }
        },
        "dea5e077910d482289d6a4faa866879b": {
          "model_module": "@jupyter-widgets/controls",
          "model_name": "ProgressStyleModel",
          "state": {
            "_view_name": "StyleView",
            "_model_name": "ProgressStyleModel",
            "description_width": "initial",
            "_view_module": "@jupyter-widgets/base",
            "_model_module_version": "1.5.0",
            "_view_count": null,
            "_view_module_version": "1.2.0",
            "bar_color": null,
            "_model_module": "@jupyter-widgets/controls"
          }
        },
        "68fb9ba951e343e6907ac09f38a1cac2": {
          "model_module": "@jupyter-widgets/base",
          "model_name": "LayoutModel",
          "state": {
            "_view_name": "LayoutView",
            "grid_template_rows": null,
            "right": null,
            "justify_content": null,
            "_view_module": "@jupyter-widgets/base",
            "overflow": null,
            "_model_module_version": "1.2.0",
            "_view_count": null,
            "flex_flow": null,
            "width": null,
            "min_width": null,
            "border": null,
            "align_items": null,
            "bottom": null,
            "_model_module": "@jupyter-widgets/base",
            "top": null,
            "grid_column": null,
            "overflow_y": null,
            "overflow_x": null,
            "grid_auto_flow": null,
            "grid_area": null,
            "grid_template_columns": null,
            "flex": null,
            "_model_name": "LayoutModel",
            "justify_items": null,
            "grid_row": null,
            "max_height": null,
            "align_content": null,
            "visibility": null,
            "align_self": null,
            "height": null,
            "min_height": null,
            "padding": null,
            "grid_auto_rows": null,
            "grid_gap": null,
            "max_width": null,
            "order": null,
            "_view_module_version": "1.2.0",
            "grid_template_areas": null,
            "object_position": null,
            "object_fit": null,
            "grid_auto_columns": null,
            "margin": null,
            "display": null,
            "left": null
          }
        },
        "6c214438830f450cbb38d461352d99f5": {
          "model_module": "@jupyter-widgets/controls",
          "model_name": "DescriptionStyleModel",
          "state": {
            "_view_name": "StyleView",
            "_model_name": "DescriptionStyleModel",
            "description_width": "",
            "_view_module": "@jupyter-widgets/base",
            "_model_module_version": "1.5.0",
            "_view_count": null,
            "_view_module_version": "1.2.0",
            "_model_module": "@jupyter-widgets/controls"
          }
        },
        "4952d506a98848d39c860b40a25e1cca": {
          "model_module": "@jupyter-widgets/base",
          "model_name": "LayoutModel",
          "state": {
            "_view_name": "LayoutView",
            "grid_template_rows": null,
            "right": null,
            "justify_content": null,
            "_view_module": "@jupyter-widgets/base",
            "overflow": null,
            "_model_module_version": "1.2.0",
            "_view_count": null,
            "flex_flow": null,
            "width": null,
            "min_width": null,
            "border": null,
            "align_items": null,
            "bottom": null,
            "_model_module": "@jupyter-widgets/base",
            "top": null,
            "grid_column": null,
            "overflow_y": null,
            "overflow_x": null,
            "grid_auto_flow": null,
            "grid_area": null,
            "grid_template_columns": null,
            "flex": null,
            "_model_name": "LayoutModel",
            "justify_items": null,
            "grid_row": null,
            "max_height": null,
            "align_content": null,
            "visibility": null,
            "align_self": null,
            "height": null,
            "min_height": null,
            "padding": null,
            "grid_auto_rows": null,
            "grid_gap": null,
            "max_width": null,
            "order": null,
            "_view_module_version": "1.2.0",
            "grid_template_areas": null,
            "object_position": null,
            "object_fit": null,
            "grid_auto_columns": null,
            "margin": null,
            "display": null,
            "left": null
          }
        }
      }
    }
  },
  "cells": [
    {
      "cell_type": "code",
      "metadata": {
        "id": "4-OXBNDaj25T"
      },
      "source": [
        "import numpy as np\r\n",
        "import matplotlib.pyplot as plt\r\n",
        "\r\n",
        "import torch\r\n",
        "import torch.nn as nn\r\n",
        "import torch.nn.functional as F\r\n",
        "from torchvision import transforms, datasets"
      ],
      "execution_count": 1,
      "outputs": []
    },
    {
      "cell_type": "code",
      "metadata": {
        "colab": {
          "base_uri": "https://localhost:8080/"
        },
        "id": "wkq7T1VXkS3S",
        "outputId": "720c0486-d2c8-4223-87cf-cfac8282d6c2"
      },
      "source": [
        "if torch.cuda.is_available():\r\n",
        "    DEVICE = torch.device('cuda')\r\n",
        "else:\r\n",
        "    DEVICE = torch.device('cpu')\r\n",
        "print('Using PyTorch version:', torch.__version__, ' Device:', DEVICE)\r\n"
      ],
      "execution_count": 2,
      "outputs": [
        {
          "output_type": "stream",
          "text": [
            "Using PyTorch version: 1.7.0+cu101  Device: cuda\n"
          ],
          "name": "stdout"
        }
      ]
    },
    {
      "cell_type": "code",
      "metadata": {
        "id": "PpOXv_XfkU-h"
      },
      "source": [
        "BATCH_SIZE = 32\r\n",
        "EPOCHS = 10"
      ],
      "execution_count": 4,
      "outputs": []
    },
    {
      "cell_type": "code",
      "metadata": {
        "colab": {
          "base_uri": "https://localhost:8080/",
          "height": 85,
          "referenced_widgets": [
            "5fbc3625073d496ea8028416df943460",
            "cd23c1cb6bf249ae9d9a36b15b079916",
            "369570b3ecdd4e15a95009aa8757c335",
            "f6719187b5c64af486254994bd633d2d",
            "dea5e077910d482289d6a4faa866879b",
            "68fb9ba951e343e6907ac09f38a1cac2",
            "6c214438830f450cbb38d461352d99f5",
            "4952d506a98848d39c860b40a25e1cca"
          ]
        },
        "id": "2pNN-nq2lZTR",
        "outputId": "adf95731-b2f4-40d0-f019-6a78febc47ae"
      },
      "source": [
        "train_dataset = datasets.CIFAR10(root = \"../data/CIFAR_10\",\r\n",
        "                               train = True,\r\n",
        "                               download = True,\r\n",
        "                               transform = transforms.ToTensor())\r\n",
        "test_dataset = datasets.CIFAR10(root = \"../data/CIFAR_10\",\r\n",
        "                               train = False,\r\n",
        "                               transform = transforms.ToTensor())\r\n",
        "train_loader = torch.utils.data.DataLoader(dataset = train_dataset,\r\n",
        "                                            batch_size = BATCH_SIZE,\r\n",
        "                                            shuffle = True)\r\n",
        "test_loader = torch.utils.data.DataLoader(dataset = test_dataset,\r\n",
        "                                            batch_size = BATCH_SIZE,\r\n",
        "                                            shuffle = False)"
      ],
      "execution_count": 6,
      "outputs": [
        {
          "output_type": "stream",
          "text": [
            "Downloading https://www.cs.toronto.edu/~kriz/cifar-10-python.tar.gz to ../data/CIFAR_10/cifar-10-python.tar.gz\n"
          ],
          "name": "stdout"
        },
        {
          "output_type": "display_data",
          "data": {
            "application/vnd.jupyter.widget-view+json": {
              "model_id": "5fbc3625073d496ea8028416df943460",
              "version_minor": 0,
              "version_major": 2
            },
            "text/plain": [
              "HBox(children=(FloatProgress(value=1.0, bar_style='info', max=1.0), HTML(value='')))"
            ]
          },
          "metadata": {
            "tags": []
          }
        },
        {
          "output_type": "stream",
          "text": [
            "Extracting ../data/CIFAR_10/cifar-10-python.tar.gz to ../data/CIFAR_10\n"
          ],
          "name": "stdout"
        }
      ]
    },
    {
      "cell_type": "code",
      "metadata": {
        "colab": {
          "base_uri": "https://localhost:8080/"
        },
        "id": "CChQRPUzxbt2",
        "outputId": "f9eb1405-c8f2-49fc-ff7b-88fc14d717a0"
      },
      "source": [
        "for X_train, y_train in train_loader:\r\n",
        "    print('X_train:', X_train.size(), 'type:', X_train.type())\r\n",
        "    print('y_train:', y_train.size(), 'type:', y_train.type())\r\n",
        "    break"
      ],
      "execution_count": 7,
      "outputs": [
        {
          "output_type": "stream",
          "text": [
            "X_train: torch.Size([32, 3, 32, 32]) type: torch.FloatTensor\n",
            "y_train: torch.Size([32]) type: torch.LongTensor\n"
          ],
          "name": "stdout"
        }
      ]
    },
    {
      "cell_type": "code",
      "metadata": {
        "colab": {
          "base_uri": "https://localhost:8080/",
          "height": 94
        },
        "id": "n17YbzolGrc2",
        "outputId": "779f85d8-290a-4f0d-be53-259efb54da4b"
      },
      "source": [
        "pltsize = 1\r\n",
        "plt.figure(figsize=(10 * pltsize, pltsize))\r\n",
        "\r\n",
        "for i in range(10):\r\n",
        "  plt.subplot(1, 10, i+1)\r\n",
        "  plt.axis('off')\r\n",
        "  plt.imshow(np.transpose(X_train[i],(1, 2, 0)))\r\n",
        "  plt.title('Class: ' + str(y_train[i].item()))"
      ],
      "execution_count": 10,
      "outputs": [
        {
          "output_type": "display_data",
          "data": {
            "image/png": "[encoded data removed]",
            "text/plain": [
              "<Figure size 720x72 with 10 Axes>"
            ]
          },
          "metadata": {
            "tags": [],
            "needs_background": "light"
          }
        }
      ]
    },
    {
      "cell_type": "code",
      "metadata": {
        "id": "CfeWJ-zvHSor"
      },
      "source": [
        "class Net(nn.Module):\r\n",
        "  def __init__(self):\r\n",
        "    super(Net, self).__init__()\r\n",
        "    self.fc1 = nn.Linear(32 * 32 * 3, 512)\r\n",
        "    self.fc2 = nn.Linear(512, 256)\r\n",
        "    self.fc3 = nn.Linear(256, 10)\r\n",
        "\r\n",
        "  def forward(self, x):\r\n",
        "    x = x.view(-1, 32 * 32 * 3)\r\n",
        "    x = self.fc1(x)\r\n",
        "    x = F.relu(x)\r\n",
        "    x = self.fc2(x)\r\n",
        "    x = F.relu(x)\r\n",
        "    x = self.fc3(x)\r\n",
        "    x = F.log_softmax(x, dim = 1)\r\n",
        "    return x"
      ],
      "execution_count": 11,
      "outputs": []
    },
    {
      "cell_type": "code",
      "metadata": {
        "colab": {
          "base_uri": "https://localhost:8080/"
        },
        "id": "ICeOMVmHIhqt",
        "outputId": "3c34468a-5d3b-4e34-e845-3e891cd2e05b"
      },
      "source": [
        "model = Net().to(DEVICE)\r\n",
        "optimizer = torch.optim.Adam(model.parameters(), lr = 0.001)\r\n",
        "criterion = nn.CrossEntropyLoss()\r\n",
        "\r\n",
        "print(model)"
      ],
      "execution_count": 12,
      "outputs": [
        {
          "output_type": "stream",
          "text": [
            "Net(\n",
            "  (fc1): Linear(in_features=3072, out_features=512, bias=True)\n",
            "  (fc2): Linear(in_features=512, out_features=256, bias=True)\n",
            "  (fc3): Linear(in_features=256, out_features=10, bias=True)\n",
            ")\n"
          ],
          "name": "stdout"
        }
      ]
    },
    {
      "cell_type": "code",
      "metadata": {
        "id": "tqV1RDHFIpeB"
      },
      "source": [
        "def train(model, train_loader, optimizer, log_interval):\r\n",
        "  model.train()\r\n",
        "  for batch_idx, (image, label) in enumerate(train_loader):\r\n",
        "    image = image.to(DEVICE)\r\n",
        "    label = label.to(DEVICE)\r\n",
        "    optimizer.zero_grad()\r\n",
        "    output = model(image)\r\n",
        "    loss = criterion(output, label)\r\n",
        "    loss.backward()\r\n",
        "    optimizer.step()\r\n",
        "\r\n",
        "    if batch_idx % log_interval == 0:\r\n",
        "      print(\"Train Epoch: {} [{}/{}({:.0f}%)]\\tTrain Loss: {:.6f}\".format(\r\n",
        "          Epoch, batch_idx * len(image),\r\n",
        "          len(train_loader.dataset), 100. * batch_idx / len(train_loader),\r\n",
        "          loss.item()))"
      ],
      "execution_count": 13,
      "outputs": []
    },
    {
      "cell_type": "code",
      "metadata": {
        "id": "hv8aI8CPJcAh"
      },
      "source": [
        "def evaluate(model, test_loader):\r\n",
        "  model.eval()\r\n",
        "  test_loss = 0\r\n",
        "  correct = 0\r\n",
        "\r\n",
        "  with torch.no_grad():\r\n",
        "    for image, label in test_loader:\r\n",
        "      image = image.to(DEVICE)\r\n",
        "      label = label.to(DEVICE)\r\n",
        "      output = model(image)\r\n",
        "      test_loss += criterion(output, label).item()\r\n",
        "      prediction = output.max(1, keepdim = True)[1]\r\n",
        "      correct += prediction.eq(label.view_as(prediction)).sum().item()\r\n",
        "        \r\n",
        "  test_loss /= len(test_loader.dataset)\r\n",
        "  test_accuracy = 100. * correct / len(test_loader.dataset)\r\n",
        "  return test_loss, test_accuracy"
      ],
      "execution_count": 14,
      "outputs": []
    },
    {
      "cell_type": "code",
      "metadata": {
        "colab": {
          "base_uri": "https://localhost:8080/"
        },
        "id": "XPIKZuhOKfkb",
        "outputId": "acb0bb05-5e7d-4e5c-cc00-8dd7058ded40"
      },
      "source": [
        "for Epoch in range(1, EPOCHS + 1):\r\n",
        "  train(model, train_loader, optimizer, log_interval = 200)\r\n",
        "  test_loss, test_accuracy = evaluate(model, test_loader)\r\n",
        "  print(\"\\n[EPOCH: {}], \\tTest Loss: {:.4f}, \\tTest Accuracy: {:.2f} % \\n\".format(Epoch, test_loss, test_accuracy))"
      ],
      "execution_count": 16,
      "outputs": [
        {
          "output_type": "stream",
          "text": [
            "Train Epoch: 1 [0/50000(0%)]\tTrain Loss: 1.515725\n",
            "Train Epoch: 1 [6400/50000(13%)]\tTrain Loss: 1.769830\n",
            "Train Epoch: 1 [12800/50000(26%)]\tTrain Loss: 1.728023\n",
            "Train Epoch: 1 [19200/50000(38%)]\tTrain Loss: 1.452494\n",
            "Train Epoch: 1 [25600/50000(51%)]\tTrain Loss: 1.612920\n",
            "Train Epoch: 1 [32000/50000(64%)]\tTrain Loss: 2.173655\n",
            "Train Epoch: 1 [38400/50000(77%)]\tTrain Loss: 1.743832\n",
            "Train Epoch: 1 [44800/50000(90%)]\tTrain Loss: 1.484325\n",
            "\n",
            "[EPOCH: 1], \tTest Loss: 0.0503, \tTest Accuracy: 41.15 % \n",
            "\n",
            "Train Epoch: 2 [0/50000(0%)]\tTrain Loss: 1.326134\n",
            "Train Epoch: 2 [6400/50000(13%)]\tTrain Loss: 1.436932\n",
            "Train Epoch: 2 [12800/50000(26%)]\tTrain Loss: 1.334441\n",
            "Train Epoch: 2 [19200/50000(38%)]\tTrain Loss: 1.608863\n",
            "Train Epoch: 2 [25600/50000(51%)]\tTrain Loss: 1.629258\n",
            "Train Epoch: 2 [32000/50000(64%)]\tTrain Loss: 1.461289\n",
            "Train Epoch: 2 [38400/50000(77%)]\tTrain Loss: 1.542437\n",
            "Train Epoch: 2 [44800/50000(90%)]\tTrain Loss: 2.012601\n",
            "\n",
            "[EPOCH: 2], \tTest Loss: 0.0483, \tTest Accuracy: 44.84 % \n",
            "\n",
            "Train Epoch: 3 [0/50000(0%)]\tTrain Loss: 1.399701\n",
            "Train Epoch: 3 [6400/50000(13%)]\tTrain Loss: 1.426064\n",
            "Train Epoch: 3 [12800/50000(26%)]\tTrain Loss: 1.253588\n",
            "Train Epoch: 3 [19200/50000(38%)]\tTrain Loss: 1.601518\n",
            "Train Epoch: 3 [25600/50000(51%)]\tTrain Loss: 1.654957\n",
            "Train Epoch: 3 [32000/50000(64%)]\tTrain Loss: 1.596754\n",
            "Train Epoch: 3 [38400/50000(77%)]\tTrain Loss: 1.600385\n",
            "Train Epoch: 3 [44800/50000(90%)]\tTrain Loss: 1.454206\n",
            "\n",
            "[EPOCH: 3], \tTest Loss: 0.0480, \tTest Accuracy: 45.26 % \n",
            "\n",
            "Train Epoch: 4 [0/50000(0%)]\tTrain Loss: 1.455896\n",
            "Train Epoch: 4 [6400/50000(13%)]\tTrain Loss: 1.226841\n",
            "Train Epoch: 4 [12800/50000(26%)]\tTrain Loss: 1.549676\n",
            "Train Epoch: 4 [19200/50000(38%)]\tTrain Loss: 1.484297\n",
            "Train Epoch: 4 [25600/50000(51%)]\tTrain Loss: 1.458200\n",
            "Train Epoch: 4 [32000/50000(64%)]\tTrain Loss: 1.407999\n",
            "Train Epoch: 4 [38400/50000(77%)]\tTrain Loss: 1.651427\n",
            "Train Epoch: 4 [44800/50000(90%)]\tTrain Loss: 1.526592\n",
            "\n",
            "[EPOCH: 4], \tTest Loss: 0.0468, \tTest Accuracy: 46.85 % \n",
            "\n",
            "Train Epoch: 5 [0/50000(0%)]\tTrain Loss: 1.283280\n",
            "Train Epoch: 5 [6400/50000(13%)]\tTrain Loss: 1.663686\n",
            "Train Epoch: 5 [12800/50000(26%)]\tTrain Loss: 1.364804\n",
            "Train Epoch: 5 [19200/50000(38%)]\tTrain Loss: 1.237574\n",
            "Train Epoch: 5 [25600/50000(51%)]\tTrain Loss: 1.190088\n",
            "Train Epoch: 5 [32000/50000(64%)]\tTrain Loss: 1.316772\n",
            "Train Epoch: 5 [38400/50000(77%)]\tTrain Loss: 1.166640\n",
            "Train Epoch: 5 [44800/50000(90%)]\tTrain Loss: 1.512360\n",
            "\n",
            "[EPOCH: 5], \tTest Loss: 0.0458, \tTest Accuracy: 48.32 % \n",
            "\n",
            "Train Epoch: 6 [0/50000(0%)]\tTrain Loss: 1.230602\n",
            "Train Epoch: 6 [6400/50000(13%)]\tTrain Loss: 1.780194\n",
            "Train Epoch: 6 [12800/50000(26%)]\tTrain Loss: 1.429935\n",
            "Train Epoch: 6 [19200/50000(38%)]\tTrain Loss: 1.192542\n",
            "Train Epoch: 6 [25600/50000(51%)]\tTrain Loss: 1.202482\n",
            "Train Epoch: 6 [32000/50000(64%)]\tTrain Loss: 1.341814\n",
            "Train Epoch: 6 [38400/50000(77%)]\tTrain Loss: 1.780453\n",
            "Train Epoch: 6 [44800/50000(90%)]\tTrain Loss: 1.698650\n",
            "\n",
            "[EPOCH: 6], \tTest Loss: 0.0465, \tTest Accuracy: 47.22 % \n",
            "\n",
            "Train Epoch: 7 [0/50000(0%)]\tTrain Loss: 1.211906\n",
            "Train Epoch: 7 [6400/50000(13%)]\tTrain Loss: 1.747272\n",
            "Train Epoch: 7 [12800/50000(26%)]\tTrain Loss: 1.275679\n",
            "Train Epoch: 7 [19200/50000(38%)]\tTrain Loss: 1.787996\n",
            "Train Epoch: 7 [25600/50000(51%)]\tTrain Loss: 1.292497\n",
            "Train Epoch: 7 [32000/50000(64%)]\tTrain Loss: 1.202942\n",
            "Train Epoch: 7 [38400/50000(77%)]\tTrain Loss: 1.095698\n",
            "Train Epoch: 7 [44800/50000(90%)]\tTrain Loss: 1.228567\n",
            "\n",
            "[EPOCH: 7], \tTest Loss: 0.0457, \tTest Accuracy: 48.07 % \n",
            "\n",
            "Train Epoch: 8 [0/50000(0%)]\tTrain Loss: 1.364988\n",
            "Train Epoch: 8 [6400/50000(13%)]\tTrain Loss: 1.645355\n",
            "Train Epoch: 8 [12800/50000(26%)]\tTrain Loss: 1.388560\n",
            "Train Epoch: 8 [19200/50000(38%)]\tTrain Loss: 1.909734\n",
            "Train Epoch: 8 [25600/50000(51%)]\tTrain Loss: 1.126500\n",
            "Train Epoch: 8 [32000/50000(64%)]\tTrain Loss: 1.455585\n",
            "Train Epoch: 8 [38400/50000(77%)]\tTrain Loss: 1.439627\n",
            "Train Epoch: 8 [44800/50000(90%)]\tTrain Loss: 1.227722\n",
            "\n",
            "[EPOCH: 8], \tTest Loss: 0.0469, \tTest Accuracy: 47.39 % \n",
            "\n",
            "Train Epoch: 9 [0/50000(0%)]\tTrain Loss: 1.609212\n",
            "Train Epoch: 9 [6400/50000(13%)]\tTrain Loss: 1.250241\n",
            "Train Epoch: 9 [12800/50000(26%)]\tTrain Loss: 1.185061\n",
            "Train Epoch: 9 [19200/50000(38%)]\tTrain Loss: 1.688599\n",
            "Train Epoch: 9 [25600/50000(51%)]\tTrain Loss: 1.266831\n",
            "Train Epoch: 9 [32000/50000(64%)]\tTrain Loss: 1.279260\n",
            "Train Epoch: 9 [38400/50000(77%)]\tTrain Loss: 1.367540\n",
            "Train Epoch: 9 [44800/50000(90%)]\tTrain Loss: 1.351025\n",
            "\n",
            "[EPOCH: 9], \tTest Loss: 0.0475, \tTest Accuracy: 46.61 % \n",
            "\n",
            "Train Epoch: 10 [0/50000(0%)]\tTrain Loss: 1.420043\n",
            "Train Epoch: 10 [6400/50000(13%)]\tTrain Loss: 1.704124\n",
            "Train Epoch: 10 [12800/50000(26%)]\tTrain Loss: 1.168771\n",
            "Train Epoch: 10 [19200/50000(38%)]\tTrain Loss: 1.415440\n",
            "Train Epoch: 10 [25600/50000(51%)]\tTrain Loss: 1.497830\n",
            "Train Epoch: 10 [32000/50000(64%)]\tTrain Loss: 1.326086\n",
            "Train Epoch: 10 [38400/50000(77%)]\tTrain Loss: 1.509160\n",
            "Train Epoch: 10 [44800/50000(90%)]\tTrain Loss: 1.194761\n",
            "\n",
            "[EPOCH: 10], \tTest Loss: 0.0464, \tTest Accuracy: 47.38 % \n",
            "\n"
          ],
          "name": "stdout"
        }
      ]
    },
    {
      "cell_type": "code",
      "metadata": {
        "id": "wFLBE964LGxJ"
      },
      "source": [
        ""
      ],
      "execution_count": null,
      "outputs": []
    }
  ]
}