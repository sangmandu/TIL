{
  "nbformat": 4,
  "nbformat_minor": 0,
  "metadata": {
    "colab": {
      "name": "CIFAR-10_CNN.ipynb",
      "provenance": []
    },
    "kernelspec": {
      "name": "python3",
      "display_name": "Python 3"
    },
    "accelerator": "GPU",
    "widgets": {
      "application/vnd.jupyter.widget-state+json": {
        "46ac6817e2f74a348b29b2f5b9b57576": {
          "model_module": "@jupyter-widgets/controls",
          "model_name": "HBoxModel",
          "state": {
            "_view_name": "HBoxView",
            "_dom_classes": [],
            "_model_name": "HBoxModel",
            "_view_module": "@jupyter-widgets/controls",
            "_model_module_version": "1.5.0",
            "_view_count": null,
            "_view_module_version": "1.5.0",
            "box_style": "",
            "layout": "IPY_MODEL_5182d8daf0cb42349cafa2bb025b926f",
            "_model_module": "@jupyter-widgets/controls",
            "children": [
              "IPY_MODEL_05ad4e0e6fb74fc4937d44637fe33a58",
              "IPY_MODEL_81062a2c2c5c48a3ad7a5c8cb89183e6"
            ]
          }
        },
        "5182d8daf0cb42349cafa2bb025b926f": {
          "model_module": "@jupyter-widgets/base",
          "model_name": "LayoutModel",
          "state": {
            "_view_name": "LayoutView",
            "grid_template_rows": null,
            "right": null,
            "justify_content": null,
            "_view_module": "@jupyter-widgets/base",
            "overflow": null,
            "_model_module_version": "1.2.0",
            "_view_count": null,
            "flex_flow": null,
            "width": null,
            "min_width": null,
            "border": null,
            "align_items": null,
            "bottom": null,
            "_model_module": "@jupyter-widgets/base",
            "top": null,
            "grid_column": null,
            "overflow_y": null,
            "overflow_x": null,
            "grid_auto_flow": null,
            "grid_area": null,
            "grid_template_columns": null,
            "flex": null,
            "_model_name": "LayoutModel",
            "justify_items": null,
            "grid_row": null,
            "max_height": null,
            "align_content": null,
            "visibility": null,
            "align_self": null,
            "height": null,
            "min_height": null,
            "padding": null,
            "grid_auto_rows": null,
            "grid_gap": null,
            "max_width": null,
            "order": null,
            "_view_module_version": "1.2.0",
            "grid_template_areas": null,
            "object_position": null,
            "object_fit": null,
            "grid_auto_columns": null,
            "margin": null,
            "display": null,
            "left": null
          }
        },
        "05ad4e0e6fb74fc4937d44637fe33a58": {
          "model_module": "@jupyter-widgets/controls",
          "model_name": "FloatProgressModel",
          "state": {
            "_view_name": "ProgressView",
            "style": "IPY_MODEL_faa4a120be4a42b28d35c8af66999342",
            "_dom_classes": [],
            "description": "",
            "_model_name": "FloatProgressModel",
            "bar_style": "success",
            "max": 1,
            "_view_module": "@jupyter-widgets/controls",
            "_model_module_version": "1.5.0",
            "value": 1,
            "_view_count": null,
            "_view_module_version": "1.5.0",
            "orientation": "horizontal",
            "min": 0,
            "description_tooltip": null,
            "_model_module": "@jupyter-widgets/controls",
            "layout": "IPY_MODEL_d944dab30fcd4e98a7f5fa0de0349e6e"
          }
        },
        "81062a2c2c5c48a3ad7a5c8cb89183e6": {
          "model_module": "@jupyter-widgets/controls",
          "model_name": "HTMLModel",
          "state": {
            "_view_name": "HTMLView",
            "style": "IPY_MODEL_40da366edfa441c1a43cc1d473850f83",
            "_dom_classes": [],
            "description": "",
            "_model_name": "HTMLModel",
            "placeholder": "​",
            "_view_module": "@jupyter-widgets/controls",
            "_model_module_version": "1.5.0",
            "value": " 170500096/? [00:07&lt;00:00, 23309088.16it/s]",
            "_view_count": null,
            "_view_module_version": "1.5.0",
            "description_tooltip": null,
            "_model_module": "@jupyter-widgets/controls",
            "layout": "IPY_MODEL_d951045a562347ec84fbbc9f78d4eecf"
          }
        },
        "faa4a120be4a42b28d35c8af66999342": {
          "model_module": "@jupyter-widgets/controls",
          "model_name": "ProgressStyleModel",
          "state": {
            "_view_name": "StyleView",
            "_model_name": "ProgressStyleModel",
            "description_width": "initial",
            "_view_module": "@jupyter-widgets/base",
            "_model_module_version": "1.5.0",
            "_view_count": null,
            "_view_module_version": "1.2.0",
            "bar_color": null,
            "_model_module": "@jupyter-widgets/controls"
          }
        },
        "d944dab30fcd4e98a7f5fa0de0349e6e": {
          "model_module": "@jupyter-widgets/base",
          "model_name": "LayoutModel",
          "state": {
            "_view_name": "LayoutView",
            "grid_template_rows": null,
            "right": null,
            "justify_content": null,
            "_view_module": "@jupyter-widgets/base",
            "overflow": null,
            "_model_module_version": "1.2.0",
            "_view_count": null,
            "flex_flow": null,
            "width": null,
            "min_width": null,
            "border": null,
            "align_items": null,
            "bottom": null,
            "_model_module": "@jupyter-widgets/base",
            "top": null,
            "grid_column": null,
            "overflow_y": null,
            "overflow_x": null,
            "grid_auto_flow": null,
            "grid_area": null,
            "grid_template_columns": null,
            "flex": null,
            "_model_name": "LayoutModel",
            "justify_items": null,
            "grid_row": null,
            "max_height": null,
            "align_content": null,
            "visibility": null,
            "align_self": null,
            "height": null,
            "min_height": null,
            "padding": null,
            "grid_auto_rows": null,
            "grid_gap": null,
            "max_width": null,
            "order": null,
            "_view_module_version": "1.2.0",
            "grid_template_areas": null,
            "object_position": null,
            "object_fit": null,
            "grid_auto_columns": null,
            "margin": null,
            "display": null,
            "left": null
          }
        },
        "40da366edfa441c1a43cc1d473850f83": {
          "model_module": "@jupyter-widgets/controls",
          "model_name": "DescriptionStyleModel",
          "state": {
            "_view_name": "StyleView",
            "_model_name": "DescriptionStyleModel",
            "description_width": "",
            "_view_module": "@jupyter-widgets/base",
            "_model_module_version": "1.5.0",
            "_view_count": null,
            "_view_module_version": "1.2.0",
            "_model_module": "@jupyter-widgets/controls"
          }
        },
        "d951045a562347ec84fbbc9f78d4eecf": {
          "model_module": "@jupyter-widgets/base",
          "model_name": "LayoutModel",
          "state": {
            "_view_name": "LayoutView",
            "grid_template_rows": null,
            "right": null,
            "justify_content": null,
            "_view_module": "@jupyter-widgets/base",
            "overflow": null,
            "_model_module_version": "1.2.0",
            "_view_count": null,
            "flex_flow": null,
            "width": null,
            "min_width": null,
            "border": null,
            "align_items": null,
            "bottom": null,
            "_model_module": "@jupyter-widgets/base",
            "top": null,
            "grid_column": null,
            "overflow_y": null,
            "overflow_x": null,
            "grid_auto_flow": null,
            "grid_area": null,
            "grid_template_columns": null,
            "flex": null,
            "_model_name": "LayoutModel",
            "justify_items": null,
            "grid_row": null,
            "max_height": null,
            "align_content": null,
            "visibility": null,
            "align_self": null,
            "height": null,
            "min_height": null,
            "padding": null,
            "grid_auto_rows": null,
            "grid_gap": null,
            "max_width": null,
            "order": null,
            "_view_module_version": "1.2.0",
            "grid_template_areas": null,
            "object_position": null,
            "object_fit": null,
            "grid_auto_columns": null,
            "margin": null,
            "display": null,
            "left": null
          }
        }
      }
    }
  },
  "cells": [
    {
      "cell_type": "code",
      "metadata": {
        "id": "4-OXBNDaj25T"
      },
      "source": [
        "import numpy as np\r\n",
        "import matplotlib.pyplot as plt\r\n",
        "\r\n",
        "import torch\r\n",
        "import torch.nn as nn\r\n",
        "import torch.nn.functional as F\r\n",
        "from torchvision import transforms, datasets"
      ],
      "execution_count": 2,
      "outputs": []
    },
    {
      "cell_type": "code",
      "metadata": {
        "colab": {
          "base_uri": "https://localhost:8080/"
        },
        "id": "wkq7T1VXkS3S",
        "outputId": "120c0f93-cb24-45a6-acf0-c0d94fec08fe"
      },
      "source": [
        "if torch.cuda.is_available():\r\n",
        "    DEVICE = torch.device('cuda')\r\n",
        "else:\r\n",
        "    DEVICE = torch.device('cpu')\r\n",
        "print('Using PyTorch version:', torch.__version__, ' Device:', DEVICE)\r\n"
      ],
      "execution_count": 3,
      "outputs": [
        {
          "output_type": "stream",
          "text": [
            "Using PyTorch version: 1.7.0+cu101  Device: cuda\n"
          ],
          "name": "stdout"
        }
      ]
    },
    {
      "cell_type": "code",
      "metadata": {
        "id": "PpOXv_XfkU-h"
      },
      "source": [
        "BATCH_SIZE = 32\r\n",
        "EPOCHS = 10"
      ],
      "execution_count": 4,
      "outputs": []
    },
    {
      "cell_type": "code",
      "metadata": {
        "colab": {
          "base_uri": "https://localhost:8080/",
          "height": 85,
          "referenced_widgets": [
            "46ac6817e2f74a348b29b2f5b9b57576",
            "5182d8daf0cb42349cafa2bb025b926f",
            "05ad4e0e6fb74fc4937d44637fe33a58",
            "81062a2c2c5c48a3ad7a5c8cb89183e6",
            "faa4a120be4a42b28d35c8af66999342",
            "d944dab30fcd4e98a7f5fa0de0349e6e",
            "40da366edfa441c1a43cc1d473850f83",
            "d951045a562347ec84fbbc9f78d4eecf"
          ]
        },
        "id": "2pNN-nq2lZTR",
        "outputId": "5da29841-c99c-413e-e4e8-03b5ca63438e"
      },
      "source": [
        "train_dataset = datasets.CIFAR10(root = \"../data/CIFAR_10\",\r\n",
        "                               train = True,\r\n",
        "                               download = True,\r\n",
        "                               transform = transforms.ToTensor())\r\n",
        "test_dataset = datasets.CIFAR10(root = \"../data/CIFAR_10\",\r\n",
        "                               train = False,\r\n",
        "                               transform = transforms.ToTensor())\r\n",
        "train_loader = torch.utils.data.DataLoader(dataset = train_dataset,\r\n",
        "                                            batch_size = BATCH_SIZE,\r\n",
        "                                            shuffle = True)\r\n",
        "test_loader = torch.utils.data.DataLoader(dataset = test_dataset,\r\n",
        "                                            batch_size = BATCH_SIZE,\r\n",
        "                                            shuffle = False)"
      ],
      "execution_count": 5,
      "outputs": [
        {
          "output_type": "stream",
          "text": [
            "Downloading https://www.cs.toronto.edu/~kriz/cifar-10-python.tar.gz to ../data/CIFAR_10/cifar-10-python.tar.gz\n"
          ],
          "name": "stdout"
        },
        {
          "output_type": "display_data",
          "data": {
            "application/vnd.jupyter.widget-view+json": {
              "model_id": "46ac6817e2f74a348b29b2f5b9b57576",
              "version_minor": 0,
              "version_major": 2
            },
            "text/plain": [
              "HBox(children=(FloatProgress(value=1.0, bar_style='info', max=1.0), HTML(value='')))"
            ]
          },
          "metadata": {
            "tags": []
          }
        },
        {
          "output_type": "stream",
          "text": [
            "Extracting ../data/CIFAR_10/cifar-10-python.tar.gz to ../data/CIFAR_10\n"
          ],
          "name": "stdout"
        }
      ]
    },
    {
      "cell_type": "code",
      "metadata": {
        "colab": {
          "base_uri": "https://localhost:8080/"
        },
        "id": "CChQRPUzxbt2",
        "outputId": "47309819-e563-487c-abdd-4f910be58fc2"
      },
      "source": [
        "for X_train, y_train in train_loader:\r\n",
        "    print('X_train:', X_train.size(), 'type:', X_train.type())\r\n",
        "    print('y_train:', y_train.size(), 'type:', y_train.type())\r\n",
        "    break"
      ],
      "execution_count": 6,
      "outputs": [
        {
          "output_type": "stream",
          "text": [
            "X_train: torch.Size([32, 3, 32, 32]) type: torch.FloatTensor\n",
            "y_train: torch.Size([32]) type: torch.LongTensor\n"
          ],
          "name": "stdout"
        }
      ]
    },
    {
      "cell_type": "code",
      "metadata": {
        "colab": {
          "base_uri": "https://localhost:8080/",
          "height": 112
        },
        "id": "n17YbzolGrc2",
        "outputId": "ffc9aec9-35ac-4e51-a870-96abd72a842e"
      },
      "source": [
        "pltsize = 1\r\n",
        "plt.figure(figsize=(10 * pltsize, pltsize))\r\n",
        "\r\n",
        "for i in range(10):\r\n",
        "  plt.subplot(1, 10, i+1)\r\n",
        "  plt.axis('off')\r\n",
        "  plt.imshow(np.transpose(X_train[i],(1, 2, 0)))\r\n",
        "  plt.title('Class: ' + str(y_train[i].item()))"
      ],
      "execution_count": 7,
      "outputs": [
        {
          "output_type": "stream",
          "text": [
            "\n"
          ],
          "name": "stdout"
        },
        {
          "output_type": "display_data",
          "data": {
            "image/png": "[encoded data removed]",
            "text/plain": [
              "<Figure size 720x72 with 10 Axes>"
            ]
          },
          "metadata": {
            "tags": [],
            "needs_background": "light"
          }
        }
      ]
    },
    {
      "cell_type": "code",
      "metadata": {
        "id": "CfeWJ-zvHSor"
      },
      "source": [
        "class CNN(nn.Module):\r\n",
        "  def __init__(self):\r\n",
        "    super(CNN, self).__init__()\r\n",
        "    self.conv1 = nn.Conv2d(\r\n",
        "        in_channels = 3,\r\n",
        "        out_channels = 8,\r\n",
        "        kernel_size = 3,\r\n",
        "        padding = 1)\r\n",
        "    self.conv2 = nn.Conv2d(\r\n",
        "        in_channels = 8,\r\n",
        "        out_channels = 16,\r\n",
        "        kernel_size = 3,\r\n",
        "        padding = 1)\r\n",
        "    self.pool = nn.MaxPool2d(\r\n",
        "        kernel_size = 2,\r\n",
        "        stride = 2)\r\n",
        "    self.fc1 = nn.Linear(8 * 8 * 16, 64)\r\n",
        "    self.fc2 = nn.Linear(64, 32)\r\n",
        "    self.fc3 = nn.Linear(32, 10)\r\n",
        "\r\n",
        "  def forward(self, x):\r\n",
        "    x = self.conv1(x)\r\n",
        "    x = F.relu(x)\r\n",
        "    x = self.pool(x)\r\n",
        "    x = self.conv2(x)\r\n",
        "    x = F.relu(x)\r\n",
        "    x = self.pool(x)\r\n",
        "\r\n",
        "    x = x.view(-1, 8 * 8 * 16)\r\n",
        "    x = self.fc1(x)\r\n",
        "    x = F.relu(x)\r\n",
        "    x = self.fc2(x)\r\n",
        "    x = F.relu(x)\r\n",
        "    x = self.fc3(x)\r\n",
        "    x = F.log_softmax(x)\r\n",
        "    return x"
      ],
      "execution_count": 9,
      "outputs": []
    },
    {
      "cell_type": "code",
      "metadata": {
        "colab": {
          "base_uri": "https://localhost:8080/"
        },
        "id": "ICeOMVmHIhqt",
        "outputId": "e07cd18d-5627-481d-db69-3e782723544a"
      },
      "source": [
        "model = CNN().to(DEVICE)\r\n",
        "optimizer = torch.optim.Adam(model.parameters(), lr = 0.001)\r\n",
        "criterion = nn.CrossEntropyLoss()\r\n",
        "\r\n",
        "print(model)"
      ],
      "execution_count": 11,
      "outputs": [
        {
          "output_type": "stream",
          "text": [
            "CNN(\n",
            "  (conv1): Conv2d(3, 8, kernel_size=(3, 3), stride=(1, 1), padding=(1, 1))\n",
            "  (conv2): Conv2d(8, 16, kernel_size=(3, 3), stride=(1, 1), padding=(1, 1))\n",
            "  (pool): MaxPool2d(kernel_size=2, stride=2, padding=0, dilation=1, ceil_mode=False)\n",
            "  (fc1): Linear(in_features=1024, out_features=64, bias=True)\n",
            "  (fc2): Linear(in_features=64, out_features=32, bias=True)\n",
            "  (fc3): Linear(in_features=32, out_features=10, bias=True)\n",
            ")\n"
          ],
          "name": "stdout"
        }
      ]
    },
    {
      "cell_type": "code",
      "metadata": {
        "id": "tqV1RDHFIpeB"
      },
      "source": [
        "def train(model, train_loader, optimizer, log_interval):\r\n",
        "  model.train()\r\n",
        "  for batch_idx, (image, label) in enumerate(train_loader):\r\n",
        "    image = image.to(DEVICE)\r\n",
        "    label = label.to(DEVICE)\r\n",
        "    optimizer.zero_grad()\r\n",
        "    output = model(image)\r\n",
        "    loss = criterion(output, label)\r\n",
        "    loss.backward()\r\n",
        "    optimizer.step()\r\n",
        "\r\n",
        "    if batch_idx % log_interval == 0:\r\n",
        "      print(\"Train Epoch: {} [{}/{}({:.0f}%)]\\tTrain Loss: {:.6f}\".format(\r\n",
        "          Epoch, batch_idx * len(image),\r\n",
        "          len(train_loader.dataset), 100. * batch_idx / len(train_loader),\r\n",
        "          loss.item()))"
      ],
      "execution_count": 12,
      "outputs": []
    },
    {
      "cell_type": "code",
      "metadata": {
        "id": "hv8aI8CPJcAh"
      },
      "source": [
        "def evaluate(model, test_loader):\r\n",
        "  model.eval()\r\n",
        "  test_loss = 0\r\n",
        "  correct = 0\r\n",
        "\r\n",
        "  with torch.no_grad():\r\n",
        "    for image, label in test_loader:\r\n",
        "      image = image.to(DEVICE)\r\n",
        "      label = label.to(DEVICE)\r\n",
        "      output = model(image)\r\n",
        "      test_loss += criterion(output, label).item()\r\n",
        "      prediction = output.max(1, keepdim = True)[1]\r\n",
        "      correct += prediction.eq(label.view_as(prediction)).sum().item()\r\n",
        "        \r\n",
        "  test_loss /= len(test_loader.dataset)\r\n",
        "  test_accuracy = 100. * correct / len(test_loader.dataset)\r\n",
        "  return test_loss, test_accuracy"
      ],
      "execution_count": 13,
      "outputs": []
    },
    {
      "cell_type": "code",
      "metadata": {
        "colab": {
          "base_uri": "https://localhost:8080/"
        },
        "id": "XPIKZuhOKfkb",
        "outputId": "79ce10ea-e36b-41c7-fc8d-e26559cf7cec"
      },
      "source": [
        "for Epoch in range(1, EPOCHS + 1):\r\n",
        "  train(model, train_loader, optimizer, log_interval = 200)\r\n",
        "  test_loss, test_accuracy = evaluate(model, test_loader)\r\n",
        "  print(\"\\n[EPOCH: {}], \\tTest Loss: {:.4f}, \\tTest Accuracy: {:.2f} % \\n\".format(Epoch, test_loss, test_accuracy))"
      ],
      "execution_count": 14,
      "outputs": [
        {
          "output_type": "stream",
          "text": [
            "/usr/local/lib/python3.6/dist-packages/ipykernel_launcher.py:35: UserWarning: Implicit dimension choice for log_softmax has been deprecated. Change the call to include dim=X as an argument.\n"
          ],
          "name": "stderr"
        },
        {
          "output_type": "stream",
          "text": [
            "Train Epoch: 1 [0/50000(0%)]\tTrain Loss: 2.326177\n",
            "Train Epoch: 1 [6400/50000(13%)]\tTrain Loss: 2.035297\n",
            "Train Epoch: 1 [12800/50000(26%)]\tTrain Loss: 1.967136\n",
            "Train Epoch: 1 [19200/50000(38%)]\tTrain Loss: 1.815789\n",
            "Train Epoch: 1 [25600/50000(51%)]\tTrain Loss: 1.531801\n",
            "Train Epoch: 1 [32000/50000(64%)]\tTrain Loss: 1.380898\n",
            "Train Epoch: 1 [38400/50000(77%)]\tTrain Loss: 1.496601\n",
            "Train Epoch: 1 [44800/50000(90%)]\tTrain Loss: 1.508168\n",
            "\n",
            "[EPOCH: 1], \tTest Loss: 0.0463, \tTest Accuracy: 46.41 % \n",
            "\n",
            "Train Epoch: 2 [0/50000(0%)]\tTrain Loss: 1.324662\n",
            "Train Epoch: 2 [6400/50000(13%)]\tTrain Loss: 1.608714\n",
            "Train Epoch: 2 [12800/50000(26%)]\tTrain Loss: 1.224084\n",
            "Train Epoch: 2 [19200/50000(38%)]\tTrain Loss: 1.637559\n",
            "Train Epoch: 2 [25600/50000(51%)]\tTrain Loss: 1.391296\n",
            "Train Epoch: 2 [32000/50000(64%)]\tTrain Loss: 1.407504\n",
            "Train Epoch: 2 [38400/50000(77%)]\tTrain Loss: 1.571293\n",
            "Train Epoch: 2 [44800/50000(90%)]\tTrain Loss: 1.887131\n",
            "\n",
            "[EPOCH: 2], \tTest Loss: 0.0417, \tTest Accuracy: 51.27 % \n",
            "\n",
            "Train Epoch: 3 [0/50000(0%)]\tTrain Loss: 1.205441\n",
            "Train Epoch: 3 [6400/50000(13%)]\tTrain Loss: 1.006253\n",
            "Train Epoch: 3 [12800/50000(26%)]\tTrain Loss: 1.346118\n",
            "Train Epoch: 3 [19200/50000(38%)]\tTrain Loss: 1.552887\n",
            "Train Epoch: 3 [25600/50000(51%)]\tTrain Loss: 1.678567\n",
            "Train Epoch: 3 [32000/50000(64%)]\tTrain Loss: 1.130332\n",
            "Train Epoch: 3 [38400/50000(77%)]\tTrain Loss: 1.535195\n",
            "Train Epoch: 3 [44800/50000(90%)]\tTrain Loss: 1.199618\n",
            "\n",
            "[EPOCH: 3], \tTest Loss: 0.0380, \tTest Accuracy: 56.75 % \n",
            "\n",
            "Train Epoch: 4 [0/50000(0%)]\tTrain Loss: 1.253481\n",
            "Train Epoch: 4 [6400/50000(13%)]\tTrain Loss: 1.148768\n",
            "Train Epoch: 4 [12800/50000(26%)]\tTrain Loss: 1.190264\n",
            "Train Epoch: 4 [19200/50000(38%)]\tTrain Loss: 1.730036\n",
            "Train Epoch: 4 [25600/50000(51%)]\tTrain Loss: 1.071610\n",
            "Train Epoch: 4 [32000/50000(64%)]\tTrain Loss: 0.964648\n",
            "Train Epoch: 4 [38400/50000(77%)]\tTrain Loss: 0.940264\n",
            "Train Epoch: 4 [44800/50000(90%)]\tTrain Loss: 1.240221\n",
            "\n",
            "[EPOCH: 4], \tTest Loss: 0.0364, \tTest Accuracy: 58.32 % \n",
            "\n",
            "Train Epoch: 5 [0/50000(0%)]\tTrain Loss: 0.980931\n",
            "Train Epoch: 5 [6400/50000(13%)]\tTrain Loss: 1.122987\n",
            "Train Epoch: 5 [12800/50000(26%)]\tTrain Loss: 0.982695\n",
            "Train Epoch: 5 [19200/50000(38%)]\tTrain Loss: 1.382735\n",
            "Train Epoch: 5 [25600/50000(51%)]\tTrain Loss: 1.541737\n",
            "Train Epoch: 5 [32000/50000(64%)]\tTrain Loss: 0.905837\n",
            "Train Epoch: 5 [38400/50000(77%)]\tTrain Loss: 0.991311\n",
            "Train Epoch: 5 [44800/50000(90%)]\tTrain Loss: 1.171791\n",
            "\n",
            "[EPOCH: 5], \tTest Loss: 0.0351, \tTest Accuracy: 60.20 % \n",
            "\n",
            "Train Epoch: 6 [0/50000(0%)]\tTrain Loss: 1.079751\n",
            "Train Epoch: 6 [6400/50000(13%)]\tTrain Loss: 1.000254\n",
            "Train Epoch: 6 [12800/50000(26%)]\tTrain Loss: 0.875730\n",
            "Train Epoch: 6 [19200/50000(38%)]\tTrain Loss: 0.996339\n",
            "Train Epoch: 6 [25600/50000(51%)]\tTrain Loss: 1.205246\n",
            "Train Epoch: 6 [32000/50000(64%)]\tTrain Loss: 0.896974\n",
            "Train Epoch: 6 [38400/50000(77%)]\tTrain Loss: 1.098387\n",
            "Train Epoch: 6 [44800/50000(90%)]\tTrain Loss: 0.836854\n",
            "\n",
            "[EPOCH: 6], \tTest Loss: 0.0333, \tTest Accuracy: 62.08 % \n",
            "\n",
            "Train Epoch: 7 [0/50000(0%)]\tTrain Loss: 0.980452\n",
            "Train Epoch: 7 [6400/50000(13%)]\tTrain Loss: 0.998889\n",
            "Train Epoch: 7 [12800/50000(26%)]\tTrain Loss: 1.266357\n",
            "Train Epoch: 7 [19200/50000(38%)]\tTrain Loss: 1.185414\n",
            "Train Epoch: 7 [25600/50000(51%)]\tTrain Loss: 1.134833\n",
            "Train Epoch: 7 [32000/50000(64%)]\tTrain Loss: 0.920817\n",
            "Train Epoch: 7 [38400/50000(77%)]\tTrain Loss: 1.170443\n",
            "Train Epoch: 7 [44800/50000(90%)]\tTrain Loss: 1.107724\n",
            "\n",
            "[EPOCH: 7], \tTest Loss: 0.0348, \tTest Accuracy: 60.61 % \n",
            "\n",
            "Train Epoch: 8 [0/50000(0%)]\tTrain Loss: 1.078338\n",
            "Train Epoch: 8 [6400/50000(13%)]\tTrain Loss: 1.236596\n",
            "Train Epoch: 8 [12800/50000(26%)]\tTrain Loss: 1.301210\n",
            "Train Epoch: 8 [19200/50000(38%)]\tTrain Loss: 0.875835\n",
            "Train Epoch: 8 [25600/50000(51%)]\tTrain Loss: 0.792094\n",
            "Train Epoch: 8 [32000/50000(64%)]\tTrain Loss: 0.814150\n",
            "Train Epoch: 8 [38400/50000(77%)]\tTrain Loss: 0.972750\n",
            "Train Epoch: 8 [44800/50000(90%)]\tTrain Loss: 1.647919\n",
            "\n",
            "[EPOCH: 8], \tTest Loss: 0.0320, \tTest Accuracy: 64.41 % \n",
            "\n",
            "Train Epoch: 9 [0/50000(0%)]\tTrain Loss: 0.849039\n",
            "Train Epoch: 9 [6400/50000(13%)]\tTrain Loss: 1.193393\n",
            "Train Epoch: 9 [12800/50000(26%)]\tTrain Loss: 1.329405\n",
            "Train Epoch: 9 [19200/50000(38%)]\tTrain Loss: 0.990933\n",
            "Train Epoch: 9 [25600/50000(51%)]\tTrain Loss: 0.809127\n",
            "Train Epoch: 9 [32000/50000(64%)]\tTrain Loss: 0.750641\n",
            "Train Epoch: 9 [38400/50000(77%)]\tTrain Loss: 0.995058\n",
            "Train Epoch: 9 [44800/50000(90%)]\tTrain Loss: 0.892560\n",
            "\n",
            "[EPOCH: 9], \tTest Loss: 0.0336, \tTest Accuracy: 62.26 % \n",
            "\n",
            "Train Epoch: 10 [0/50000(0%)]\tTrain Loss: 1.022276\n",
            "Train Epoch: 10 [6400/50000(13%)]\tTrain Loss: 0.677370\n",
            "Train Epoch: 10 [12800/50000(26%)]\tTrain Loss: 0.891361\n",
            "Train Epoch: 10 [19200/50000(38%)]\tTrain Loss: 0.936391\n",
            "Train Epoch: 10 [25600/50000(51%)]\tTrain Loss: 1.061640\n",
            "Train Epoch: 10 [32000/50000(64%)]\tTrain Loss: 0.980495\n",
            "Train Epoch: 10 [38400/50000(77%)]\tTrain Loss: 0.934054\n",
            "Train Epoch: 10 [44800/50000(90%)]\tTrain Loss: 0.953409\n",
            "\n",
            "[EPOCH: 10], \tTest Loss: 0.0339, \tTest Accuracy: 62.22 % \n",
            "\n"
          ],
          "name": "stdout"
        }
      ]
    },
    {
      "cell_type": "code",
      "metadata": {
        "id": "wFLBE964LGxJ"
      },
      "source": [
        ""
      ],
      "execution_count": null,
      "outputs": []
    }
  ]
}